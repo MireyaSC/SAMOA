{
  "nbformat": 4,
  "nbformat_minor": 0,
  "metadata": {
    "colab": {
      "name": "XGboost_enproceso(v4).ipynb",
      "provenance": []
    },
    "kernelspec": {
      "name": "python3",
      "display_name": "Python 3"
    },
    "language_info": {
      "name": "python"
    }
  },
  "cells": [
    {
      "cell_type": "code",
      "metadata": {
        "colab": {
          "base_uri": "https://localhost:8080/",
          "height": 235
        },
        "id": "5N9mNexSyYfk",
        "outputId": "df5812c6-97bd-43b4-c1b2-992c1c8e281a"
      },
      "source": [
        "import datetime as dt\n",
        "from pandas_datareader import data\n",
        "import numpy\n",
        "import matplotlib.pyplot as plt\n",
        "import pandas as pd\n",
        "from pandas import read_csv\n",
        "import math\n",
        "from xgboost import XGBRegressor\n",
        "from sklearn.preprocessing import MinMaxScaler\n",
        "from sklearn.metrics import mean_squared_error, r2_score\n",
        "\n",
        "dataset_raw = data.DataReader('BTC-USD','yahoo', dt.datetime(2014,9,16), dt.datetime.now())\n",
        "dataset_raw.head()"
      ],
      "execution_count": 91,
      "outputs": [
        {
          "output_type": "execute_result",
          "data": {
            "text/html": [
              "<div>\n",
              "<style scoped>\n",
              "    .dataframe tbody tr th:only-of-type {\n",
              "        vertical-align: middle;\n",
              "    }\n",
              "\n",
              "    .dataframe tbody tr th {\n",
              "        vertical-align: top;\n",
              "    }\n",
              "\n",
              "    .dataframe thead th {\n",
              "        text-align: right;\n",
              "    }\n",
              "</style>\n",
              "<table border=\"1\" class=\"dataframe\">\n",
              "  <thead>\n",
              "    <tr style=\"text-align: right;\">\n",
              "      <th></th>\n",
              "      <th>High</th>\n",
              "      <th>Low</th>\n",
              "      <th>Open</th>\n",
              "      <th>Close</th>\n",
              "      <th>Volume</th>\n",
              "      <th>Adj Close</th>\n",
              "    </tr>\n",
              "    <tr>\n",
              "      <th>Date</th>\n",
              "      <th></th>\n",
              "      <th></th>\n",
              "      <th></th>\n",
              "      <th></th>\n",
              "      <th></th>\n",
              "      <th></th>\n",
              "    </tr>\n",
              "  </thead>\n",
              "  <tbody>\n",
              "    <tr>\n",
              "      <th>2014-09-16</th>\n",
              "      <td>468.174011</td>\n",
              "      <td>452.421997</td>\n",
              "      <td>465.864014</td>\n",
              "      <td>457.334015</td>\n",
              "      <td>21056800.0</td>\n",
              "      <td>457.334015</td>\n",
              "    </tr>\n",
              "    <tr>\n",
              "      <th>2014-09-17</th>\n",
              "      <td>456.859985</td>\n",
              "      <td>413.104004</td>\n",
              "      <td>456.859985</td>\n",
              "      <td>424.440002</td>\n",
              "      <td>34483200.0</td>\n",
              "      <td>424.440002</td>\n",
              "    </tr>\n",
              "    <tr>\n",
              "      <th>2014-09-18</th>\n",
              "      <td>427.834991</td>\n",
              "      <td>384.532013</td>\n",
              "      <td>424.102997</td>\n",
              "      <td>394.795990</td>\n",
              "      <td>37919700.0</td>\n",
              "      <td>394.795990</td>\n",
              "    </tr>\n",
              "    <tr>\n",
              "      <th>2014-09-19</th>\n",
              "      <td>423.295990</td>\n",
              "      <td>389.882996</td>\n",
              "      <td>394.673004</td>\n",
              "      <td>408.903992</td>\n",
              "      <td>36863600.0</td>\n",
              "      <td>408.903992</td>\n",
              "    </tr>\n",
              "    <tr>\n",
              "      <th>2014-09-20</th>\n",
              "      <td>412.425995</td>\n",
              "      <td>393.181000</td>\n",
              "      <td>408.084991</td>\n",
              "      <td>398.821014</td>\n",
              "      <td>26580100.0</td>\n",
              "      <td>398.821014</td>\n",
              "    </tr>\n",
              "  </tbody>\n",
              "</table>\n",
              "</div>"
            ],
            "text/plain": [
              "                  High         Low  ...      Volume   Adj Close\n",
              "Date                                ...                        \n",
              "2014-09-16  468.174011  452.421997  ...  21056800.0  457.334015\n",
              "2014-09-17  456.859985  413.104004  ...  34483200.0  424.440002\n",
              "2014-09-18  427.834991  384.532013  ...  37919700.0  394.795990\n",
              "2014-09-19  423.295990  389.882996  ...  36863600.0  408.903992\n",
              "2014-09-20  412.425995  393.181000  ...  26580100.0  398.821014\n",
              "\n",
              "[5 rows x 6 columns]"
            ]
          },
          "metadata": {
            "tags": []
          },
          "execution_count": 91
        }
      ]
    },
    {
      "cell_type": "code",
      "metadata": {
        "colab": {
          "base_uri": "https://localhost:8080/",
          "height": 235
        },
        "id": "KiBcWP_FyZy7",
        "outputId": "0272e4b4-6a55-447d-f299-4c1ea382fa28"
      },
      "source": [
        "dataset_raw1 = data.DataReader('^GSPC','yahoo', dt.datetime(2014,9,16), dt.datetime.now())\n",
        "dataset_raw1.head()"
      ],
      "execution_count": 92,
      "outputs": [
        {
          "output_type": "execute_result",
          "data": {
            "text/html": [
              "<div>\n",
              "<style scoped>\n",
              "    .dataframe tbody tr th:only-of-type {\n",
              "        vertical-align: middle;\n",
              "    }\n",
              "\n",
              "    .dataframe tbody tr th {\n",
              "        vertical-align: top;\n",
              "    }\n",
              "\n",
              "    .dataframe thead th {\n",
              "        text-align: right;\n",
              "    }\n",
              "</style>\n",
              "<table border=\"1\" class=\"dataframe\">\n",
              "  <thead>\n",
              "    <tr style=\"text-align: right;\">\n",
              "      <th></th>\n",
              "      <th>High</th>\n",
              "      <th>Low</th>\n",
              "      <th>Open</th>\n",
              "      <th>Close</th>\n",
              "      <th>Volume</th>\n",
              "      <th>Adj Close</th>\n",
              "    </tr>\n",
              "    <tr>\n",
              "      <th>Date</th>\n",
              "      <th></th>\n",
              "      <th></th>\n",
              "      <th></th>\n",
              "      <th></th>\n",
              "      <th></th>\n",
              "      <th></th>\n",
              "    </tr>\n",
              "  </thead>\n",
              "  <tbody>\n",
              "    <tr>\n",
              "      <th>2014-09-16</th>\n",
              "      <td>2002.280029</td>\n",
              "      <td>1979.060059</td>\n",
              "      <td>1981.930054</td>\n",
              "      <td>1998.979980</td>\n",
              "      <td>3160310000</td>\n",
              "      <td>1998.979980</td>\n",
              "    </tr>\n",
              "    <tr>\n",
              "      <th>2014-09-17</th>\n",
              "      <td>2010.739990</td>\n",
              "      <td>1993.290039</td>\n",
              "      <td>1999.300049</td>\n",
              "      <td>2001.569946</td>\n",
              "      <td>3209420000</td>\n",
              "      <td>2001.569946</td>\n",
              "    </tr>\n",
              "    <tr>\n",
              "      <th>2014-09-18</th>\n",
              "      <td>2012.339966</td>\n",
              "      <td>2003.069946</td>\n",
              "      <td>2003.069946</td>\n",
              "      <td>2011.359985</td>\n",
              "      <td>3235340000</td>\n",
              "      <td>2011.359985</td>\n",
              "    </tr>\n",
              "    <tr>\n",
              "      <th>2014-09-19</th>\n",
              "      <td>2019.260010</td>\n",
              "      <td>2006.589966</td>\n",
              "      <td>2012.739990</td>\n",
              "      <td>2010.400024</td>\n",
              "      <td>4880220000</td>\n",
              "      <td>2010.400024</td>\n",
              "    </tr>\n",
              "    <tr>\n",
              "      <th>2014-09-22</th>\n",
              "      <td>2009.079956</td>\n",
              "      <td>1991.010010</td>\n",
              "      <td>2009.079956</td>\n",
              "      <td>1994.290039</td>\n",
              "      <td>3349670000</td>\n",
              "      <td>1994.290039</td>\n",
              "    </tr>\n",
              "  </tbody>\n",
              "</table>\n",
              "</div>"
            ],
            "text/plain": [
              "                   High          Low  ...      Volume    Adj Close\n",
              "Date                                  ...                         \n",
              "2014-09-16  2002.280029  1979.060059  ...  3160310000  1998.979980\n",
              "2014-09-17  2010.739990  1993.290039  ...  3209420000  2001.569946\n",
              "2014-09-18  2012.339966  2003.069946  ...  3235340000  2011.359985\n",
              "2014-09-19  2019.260010  2006.589966  ...  4880220000  2010.400024\n",
              "2014-09-22  2009.079956  1991.010010  ...  3349670000  1994.290039\n",
              "\n",
              "[5 rows x 6 columns]"
            ]
          },
          "metadata": {
            "tags": []
          },
          "execution_count": 92
        }
      ]
    },
    {
      "cell_type": "code",
      "metadata": {
        "colab": {
          "base_uri": "https://localhost:8080/",
          "height": 235
        },
        "id": "WfBItFoDSB5C",
        "outputId": "86301401-225b-4385-b47f-3125d9cacad1"
      },
      "source": [
        "dataset_raw2 = data.DataReader('USD','yahoo', dt.datetime(2014,9,16), dt.datetime.now())\n",
        "dataset_raw2.head()"
      ],
      "execution_count": 93,
      "outputs": [
        {
          "output_type": "execute_result",
          "data": {
            "text/html": [
              "<div>\n",
              "<style scoped>\n",
              "    .dataframe tbody tr th:only-of-type {\n",
              "        vertical-align: middle;\n",
              "    }\n",
              "\n",
              "    .dataframe tbody tr th {\n",
              "        vertical-align: top;\n",
              "    }\n",
              "\n",
              "    .dataframe thead th {\n",
              "        text-align: right;\n",
              "    }\n",
              "</style>\n",
              "<table border=\"1\" class=\"dataframe\">\n",
              "  <thead>\n",
              "    <tr style=\"text-align: right;\">\n",
              "      <th></th>\n",
              "      <th>High</th>\n",
              "      <th>Low</th>\n",
              "      <th>Open</th>\n",
              "      <th>Close</th>\n",
              "      <th>Volume</th>\n",
              "      <th>Adj Close</th>\n",
              "    </tr>\n",
              "    <tr>\n",
              "      <th>Date</th>\n",
              "      <th></th>\n",
              "      <th></th>\n",
              "      <th></th>\n",
              "      <th></th>\n",
              "      <th></th>\n",
              "      <th></th>\n",
              "    </tr>\n",
              "  </thead>\n",
              "  <tbody>\n",
              "    <tr>\n",
              "      <th>2014-09-16</th>\n",
              "      <td>14.011667</td>\n",
              "      <td>13.378333</td>\n",
              "      <td>13.378333</td>\n",
              "      <td>14.000000</td>\n",
              "      <td>31800.0</td>\n",
              "      <td>13.471940</td>\n",
              "    </tr>\n",
              "    <tr>\n",
              "      <th>2014-09-17</th>\n",
              "      <td>14.296667</td>\n",
              "      <td>14.045000</td>\n",
              "      <td>14.093333</td>\n",
              "      <td>14.148333</td>\n",
              "      <td>45000.0</td>\n",
              "      <td>13.614678</td>\n",
              "    </tr>\n",
              "    <tr>\n",
              "      <th>2014-09-18</th>\n",
              "      <td>14.458333</td>\n",
              "      <td>14.166667</td>\n",
              "      <td>14.321667</td>\n",
              "      <td>14.458333</td>\n",
              "      <td>43200.0</td>\n",
              "      <td>13.912984</td>\n",
              "    </tr>\n",
              "    <tr>\n",
              "      <th>2014-09-19</th>\n",
              "      <td>14.503333</td>\n",
              "      <td>14.133333</td>\n",
              "      <td>14.500000</td>\n",
              "      <td>14.213333</td>\n",
              "      <td>31200.0</td>\n",
              "      <td>13.677226</td>\n",
              "    </tr>\n",
              "    <tr>\n",
              "      <th>2014-09-22</th>\n",
              "      <td>14.186667</td>\n",
              "      <td>13.793333</td>\n",
              "      <td>14.186667</td>\n",
              "      <td>13.858333</td>\n",
              "      <td>37800.0</td>\n",
              "      <td>13.335614</td>\n",
              "    </tr>\n",
              "  </tbody>\n",
              "</table>\n",
              "</div>"
            ],
            "text/plain": [
              "                 High        Low       Open      Close   Volume  Adj Close\n",
              "Date                                                                      \n",
              "2014-09-16  14.011667  13.378333  13.378333  14.000000  31800.0  13.471940\n",
              "2014-09-17  14.296667  14.045000  14.093333  14.148333  45000.0  13.614678\n",
              "2014-09-18  14.458333  14.166667  14.321667  14.458333  43200.0  13.912984\n",
              "2014-09-19  14.503333  14.133333  14.500000  14.213333  31200.0  13.677226\n",
              "2014-09-22  14.186667  13.793333  14.186667  13.858333  37800.0  13.335614"
            ]
          },
          "metadata": {
            "tags": []
          },
          "execution_count": 93
        }
      ]
    },
    {
      "cell_type": "code",
      "metadata": {
        "colab": {
          "base_uri": "https://localhost:8080/",
          "height": 235
        },
        "id": "FPA-CQU6UhsG",
        "outputId": "b2c18202-de41-440f-9074-d967575a3c95"
      },
      "source": [
        "dataset_raw22 = dataset_raw2 [[\"Close\"]] \n",
        "dataset_raw22.head()"
      ],
      "execution_count": 94,
      "outputs": [
        {
          "output_type": "execute_result",
          "data": {
            "text/html": [
              "<div>\n",
              "<style scoped>\n",
              "    .dataframe tbody tr th:only-of-type {\n",
              "        vertical-align: middle;\n",
              "    }\n",
              "\n",
              "    .dataframe tbody tr th {\n",
              "        vertical-align: top;\n",
              "    }\n",
              "\n",
              "    .dataframe thead th {\n",
              "        text-align: right;\n",
              "    }\n",
              "</style>\n",
              "<table border=\"1\" class=\"dataframe\">\n",
              "  <thead>\n",
              "    <tr style=\"text-align: right;\">\n",
              "      <th></th>\n",
              "      <th>Close</th>\n",
              "    </tr>\n",
              "    <tr>\n",
              "      <th>Date</th>\n",
              "      <th></th>\n",
              "    </tr>\n",
              "  </thead>\n",
              "  <tbody>\n",
              "    <tr>\n",
              "      <th>2014-09-16</th>\n",
              "      <td>14.000000</td>\n",
              "    </tr>\n",
              "    <tr>\n",
              "      <th>2014-09-17</th>\n",
              "      <td>14.148333</td>\n",
              "    </tr>\n",
              "    <tr>\n",
              "      <th>2014-09-18</th>\n",
              "      <td>14.458333</td>\n",
              "    </tr>\n",
              "    <tr>\n",
              "      <th>2014-09-19</th>\n",
              "      <td>14.213333</td>\n",
              "    </tr>\n",
              "    <tr>\n",
              "      <th>2014-09-22</th>\n",
              "      <td>13.858333</td>\n",
              "    </tr>\n",
              "  </tbody>\n",
              "</table>\n",
              "</div>"
            ],
            "text/plain": [
              "                Close\n",
              "Date                 \n",
              "2014-09-16  14.000000\n",
              "2014-09-17  14.148333\n",
              "2014-09-18  14.458333\n",
              "2014-09-19  14.213333\n",
              "2014-09-22  13.858333"
            ]
          },
          "metadata": {
            "tags": []
          },
          "execution_count": 94
        }
      ]
    },
    {
      "cell_type": "code",
      "metadata": {
        "colab": {
          "base_uri": "https://localhost:8080/",
          "height": 235
        },
        "id": "if70C3TdSDmD",
        "outputId": "77b6dec1-b870-4d02-dfe2-be15d1181071"
      },
      "source": [
        "dataset_raw3 = data.DataReader('ETH-USD','yahoo', dt.datetime(2014,9,16), dt.datetime.now())\n",
        "dataset_raw3.head()"
      ],
      "execution_count": 95,
      "outputs": [
        {
          "output_type": "execute_result",
          "data": {
            "text/html": [
              "<div>\n",
              "<style scoped>\n",
              "    .dataframe tbody tr th:only-of-type {\n",
              "        vertical-align: middle;\n",
              "    }\n",
              "\n",
              "    .dataframe tbody tr th {\n",
              "        vertical-align: top;\n",
              "    }\n",
              "\n",
              "    .dataframe thead th {\n",
              "        text-align: right;\n",
              "    }\n",
              "</style>\n",
              "<table border=\"1\" class=\"dataframe\">\n",
              "  <thead>\n",
              "    <tr style=\"text-align: right;\">\n",
              "      <th></th>\n",
              "      <th>High</th>\n",
              "      <th>Low</th>\n",
              "      <th>Open</th>\n",
              "      <th>Close</th>\n",
              "      <th>Volume</th>\n",
              "      <th>Adj Close</th>\n",
              "    </tr>\n",
              "    <tr>\n",
              "      <th>Date</th>\n",
              "      <th></th>\n",
              "      <th></th>\n",
              "      <th></th>\n",
              "      <th></th>\n",
              "      <th></th>\n",
              "      <th></th>\n",
              "    </tr>\n",
              "  </thead>\n",
              "  <tbody>\n",
              "    <tr>\n",
              "      <th>2015-08-06</th>\n",
              "      <td>3.536610</td>\n",
              "      <td>2.521120</td>\n",
              "      <td>2.831620</td>\n",
              "      <td>2.772120</td>\n",
              "      <td>164329.0</td>\n",
              "      <td>2.772120</td>\n",
              "    </tr>\n",
              "    <tr>\n",
              "      <th>2015-08-07</th>\n",
              "      <td>2.798810</td>\n",
              "      <td>0.714725</td>\n",
              "      <td>2.793760</td>\n",
              "      <td>0.753325</td>\n",
              "      <td>674188.0</td>\n",
              "      <td>0.753325</td>\n",
              "    </tr>\n",
              "    <tr>\n",
              "      <th>2015-08-08</th>\n",
              "      <td>0.879810</td>\n",
              "      <td>0.629191</td>\n",
              "      <td>0.706136</td>\n",
              "      <td>0.701897</td>\n",
              "      <td>532170.0</td>\n",
              "      <td>0.701897</td>\n",
              "    </tr>\n",
              "    <tr>\n",
              "      <th>2015-08-09</th>\n",
              "      <td>0.729854</td>\n",
              "      <td>0.636546</td>\n",
              "      <td>0.713989</td>\n",
              "      <td>0.708448</td>\n",
              "      <td>405283.0</td>\n",
              "      <td>0.708448</td>\n",
              "    </tr>\n",
              "    <tr>\n",
              "      <th>2015-08-10</th>\n",
              "      <td>1.131410</td>\n",
              "      <td>0.663235</td>\n",
              "      <td>0.708087</td>\n",
              "      <td>1.067860</td>\n",
              "      <td>1463100.0</td>\n",
              "      <td>1.067860</td>\n",
              "    </tr>\n",
              "  </tbody>\n",
              "</table>\n",
              "</div>"
            ],
            "text/plain": [
              "                High       Low      Open     Close     Volume  Adj Close\n",
              "Date                                                                    \n",
              "2015-08-06  3.536610  2.521120  2.831620  2.772120   164329.0   2.772120\n",
              "2015-08-07  2.798810  0.714725  2.793760  0.753325   674188.0   0.753325\n",
              "2015-08-08  0.879810  0.629191  0.706136  0.701897   532170.0   0.701897\n",
              "2015-08-09  0.729854  0.636546  0.713989  0.708448   405283.0   0.708448\n",
              "2015-08-10  1.131410  0.663235  0.708087  1.067860  1463100.0   1.067860"
            ]
          },
          "metadata": {
            "tags": []
          },
          "execution_count": 95
        }
      ]
    },
    {
      "cell_type": "code",
      "metadata": {
        "colab": {
          "base_uri": "https://localhost:8080/",
          "height": 235
        },
        "id": "5FKTaUTxU6pr",
        "outputId": "f82b5333-aad6-44b2-f4aa-35d66f1ec85b"
      },
      "source": [
        "dataset_raw33 = dataset_raw3 [[\"Close\"]] \n",
        "dataset_raw33.head()"
      ],
      "execution_count": 96,
      "outputs": [
        {
          "output_type": "execute_result",
          "data": {
            "text/html": [
              "<div>\n",
              "<style scoped>\n",
              "    .dataframe tbody tr th:only-of-type {\n",
              "        vertical-align: middle;\n",
              "    }\n",
              "\n",
              "    .dataframe tbody tr th {\n",
              "        vertical-align: top;\n",
              "    }\n",
              "\n",
              "    .dataframe thead th {\n",
              "        text-align: right;\n",
              "    }\n",
              "</style>\n",
              "<table border=\"1\" class=\"dataframe\">\n",
              "  <thead>\n",
              "    <tr style=\"text-align: right;\">\n",
              "      <th></th>\n",
              "      <th>Close</th>\n",
              "    </tr>\n",
              "    <tr>\n",
              "      <th>Date</th>\n",
              "      <th></th>\n",
              "    </tr>\n",
              "  </thead>\n",
              "  <tbody>\n",
              "    <tr>\n",
              "      <th>2015-08-06</th>\n",
              "      <td>2.772120</td>\n",
              "    </tr>\n",
              "    <tr>\n",
              "      <th>2015-08-07</th>\n",
              "      <td>0.753325</td>\n",
              "    </tr>\n",
              "    <tr>\n",
              "      <th>2015-08-08</th>\n",
              "      <td>0.701897</td>\n",
              "    </tr>\n",
              "    <tr>\n",
              "      <th>2015-08-09</th>\n",
              "      <td>0.708448</td>\n",
              "    </tr>\n",
              "    <tr>\n",
              "      <th>2015-08-10</th>\n",
              "      <td>1.067860</td>\n",
              "    </tr>\n",
              "  </tbody>\n",
              "</table>\n",
              "</div>"
            ],
            "text/plain": [
              "               Close\n",
              "Date                \n",
              "2015-08-06  2.772120\n",
              "2015-08-07  0.753325\n",
              "2015-08-08  0.701897\n",
              "2015-08-09  0.708448\n",
              "2015-08-10  1.067860"
            ]
          },
          "metadata": {
            "tags": []
          },
          "execution_count": 96
        }
      ]
    },
    {
      "cell_type": "code",
      "metadata": {
        "colab": {
          "base_uri": "https://localhost:8080/",
          "height": 235
        },
        "id": "PKEStvgaSJVC",
        "outputId": "9cad6f84-a409-4ec9-8f03-5a4c5f5b1096"
      },
      "source": [
        "dataset_raw4 = data.DataReader('GOOGL','yahoo', dt.datetime(2014,9,16), dt.datetime.now())\n",
        "dataset_raw4.head()"
      ],
      "execution_count": 97,
      "outputs": [
        {
          "output_type": "execute_result",
          "data": {
            "text/html": [
              "<div>\n",
              "<style scoped>\n",
              "    .dataframe tbody tr th:only-of-type {\n",
              "        vertical-align: middle;\n",
              "    }\n",
              "\n",
              "    .dataframe tbody tr th {\n",
              "        vertical-align: top;\n",
              "    }\n",
              "\n",
              "    .dataframe thead th {\n",
              "        text-align: right;\n",
              "    }\n",
              "</style>\n",
              "<table border=\"1\" class=\"dataframe\">\n",
              "  <thead>\n",
              "    <tr style=\"text-align: right;\">\n",
              "      <th></th>\n",
              "      <th>High</th>\n",
              "      <th>Low</th>\n",
              "      <th>Open</th>\n",
              "      <th>Close</th>\n",
              "      <th>Volume</th>\n",
              "      <th>Adj Close</th>\n",
              "    </tr>\n",
              "    <tr>\n",
              "      <th>Date</th>\n",
              "      <th></th>\n",
              "      <th></th>\n",
              "      <th></th>\n",
              "      <th></th>\n",
              "      <th></th>\n",
              "      <th></th>\n",
              "    </tr>\n",
              "  </thead>\n",
              "  <tbody>\n",
              "    <tr>\n",
              "      <th>2014-09-16</th>\n",
              "      <td>590.150024</td>\n",
              "      <td>580.950012</td>\n",
              "      <td>580.950012</td>\n",
              "      <td>588.780029</td>\n",
              "      <td>1579600</td>\n",
              "      <td>588.780029</td>\n",
              "    </tr>\n",
              "    <tr>\n",
              "      <th>2014-09-17</th>\n",
              "      <td>596.070007</td>\n",
              "      <td>587.119995</td>\n",
              "      <td>589.510010</td>\n",
              "      <td>593.289978</td>\n",
              "      <td>1719500</td>\n",
              "      <td>593.289978</td>\n",
              "    </tr>\n",
              "    <tr>\n",
              "      <th>2014-09-18</th>\n",
              "      <td>597.559998</td>\n",
              "      <td>593.020020</td>\n",
              "      <td>595.049988</td>\n",
              "      <td>597.270020</td>\n",
              "      <td>1494500</td>\n",
              "      <td>597.270020</td>\n",
              "    </tr>\n",
              "    <tr>\n",
              "      <th>2014-09-19</th>\n",
              "      <td>605.400024</td>\n",
              "      <td>597.760010</td>\n",
              "      <td>599.489990</td>\n",
              "      <td>605.400024</td>\n",
              "      <td>4191600</td>\n",
              "      <td>605.400024</td>\n",
              "    </tr>\n",
              "    <tr>\n",
              "      <th>2014-09-22</th>\n",
              "      <td>603.799988</td>\n",
              "      <td>593.119995</td>\n",
              "      <td>602.500000</td>\n",
              "      <td>597.270020</td>\n",
              "      <td>1782200</td>\n",
              "      <td>597.270020</td>\n",
              "    </tr>\n",
              "  </tbody>\n",
              "</table>\n",
              "</div>"
            ],
            "text/plain": [
              "                  High         Low        Open       Close   Volume   Adj Close\n",
              "Date                                                                           \n",
              "2014-09-16  590.150024  580.950012  580.950012  588.780029  1579600  588.780029\n",
              "2014-09-17  596.070007  587.119995  589.510010  593.289978  1719500  593.289978\n",
              "2014-09-18  597.559998  593.020020  595.049988  597.270020  1494500  597.270020\n",
              "2014-09-19  605.400024  597.760010  599.489990  605.400024  4191600  605.400024\n",
              "2014-09-22  603.799988  593.119995  602.500000  597.270020  1782200  597.270020"
            ]
          },
          "metadata": {
            "tags": []
          },
          "execution_count": 97
        }
      ]
    },
    {
      "cell_type": "code",
      "metadata": {
        "colab": {
          "base_uri": "https://localhost:8080/",
          "height": 235
        },
        "id": "ylnAMcozUjKa",
        "outputId": "d1db4dff-04a0-44ac-b52b-b10111c741f6"
      },
      "source": [
        "dataset_raw44 = dataset_raw4 [[\"Close\"]] \n",
        "dataset_raw44.head()"
      ],
      "execution_count": 98,
      "outputs": [
        {
          "output_type": "execute_result",
          "data": {
            "text/html": [
              "<div>\n",
              "<style scoped>\n",
              "    .dataframe tbody tr th:only-of-type {\n",
              "        vertical-align: middle;\n",
              "    }\n",
              "\n",
              "    .dataframe tbody tr th {\n",
              "        vertical-align: top;\n",
              "    }\n",
              "\n",
              "    .dataframe thead th {\n",
              "        text-align: right;\n",
              "    }\n",
              "</style>\n",
              "<table border=\"1\" class=\"dataframe\">\n",
              "  <thead>\n",
              "    <tr style=\"text-align: right;\">\n",
              "      <th></th>\n",
              "      <th>Close</th>\n",
              "    </tr>\n",
              "    <tr>\n",
              "      <th>Date</th>\n",
              "      <th></th>\n",
              "    </tr>\n",
              "  </thead>\n",
              "  <tbody>\n",
              "    <tr>\n",
              "      <th>2014-09-16</th>\n",
              "      <td>588.780029</td>\n",
              "    </tr>\n",
              "    <tr>\n",
              "      <th>2014-09-17</th>\n",
              "      <td>593.289978</td>\n",
              "    </tr>\n",
              "    <tr>\n",
              "      <th>2014-09-18</th>\n",
              "      <td>597.270020</td>\n",
              "    </tr>\n",
              "    <tr>\n",
              "      <th>2014-09-19</th>\n",
              "      <td>605.400024</td>\n",
              "    </tr>\n",
              "    <tr>\n",
              "      <th>2014-09-22</th>\n",
              "      <td>597.270020</td>\n",
              "    </tr>\n",
              "  </tbody>\n",
              "</table>\n",
              "</div>"
            ],
            "text/plain": [
              "                 Close\n",
              "Date                  \n",
              "2014-09-16  588.780029\n",
              "2014-09-17  593.289978\n",
              "2014-09-18  597.270020\n",
              "2014-09-19  605.400024\n",
              "2014-09-22  597.270020"
            ]
          },
          "metadata": {
            "tags": []
          },
          "execution_count": 98
        }
      ]
    },
    {
      "cell_type": "code",
      "metadata": {
        "colab": {
          "base_uri": "https://localhost:8080/",
          "height": 235
        },
        "id": "nkTyiww7VOyN",
        "outputId": "f8e11138-8bea-442f-c258-f1b919565458"
      },
      "source": [
        "dfm2= pd.merge(dataset_raw22,dataset_raw33, on= \"Date\", how=\"outer\")\n",
        "#dfm= pd.merge(dfo,dfo1, on= \"Date\", how=\"outer\")\n",
        "dfm2.head()"
      ],
      "execution_count": 99,
      "outputs": [
        {
          "output_type": "execute_result",
          "data": {
            "text/html": [
              "<div>\n",
              "<style scoped>\n",
              "    .dataframe tbody tr th:only-of-type {\n",
              "        vertical-align: middle;\n",
              "    }\n",
              "\n",
              "    .dataframe tbody tr th {\n",
              "        vertical-align: top;\n",
              "    }\n",
              "\n",
              "    .dataframe thead th {\n",
              "        text-align: right;\n",
              "    }\n",
              "</style>\n",
              "<table border=\"1\" class=\"dataframe\">\n",
              "  <thead>\n",
              "    <tr style=\"text-align: right;\">\n",
              "      <th></th>\n",
              "      <th>Close_x</th>\n",
              "      <th>Close_y</th>\n",
              "    </tr>\n",
              "    <tr>\n",
              "      <th>Date</th>\n",
              "      <th></th>\n",
              "      <th></th>\n",
              "    </tr>\n",
              "  </thead>\n",
              "  <tbody>\n",
              "    <tr>\n",
              "      <th>2014-09-16</th>\n",
              "      <td>14.000000</td>\n",
              "      <td>NaN</td>\n",
              "    </tr>\n",
              "    <tr>\n",
              "      <th>2014-09-17</th>\n",
              "      <td>14.148333</td>\n",
              "      <td>NaN</td>\n",
              "    </tr>\n",
              "    <tr>\n",
              "      <th>2014-09-18</th>\n",
              "      <td>14.458333</td>\n",
              "      <td>NaN</td>\n",
              "    </tr>\n",
              "    <tr>\n",
              "      <th>2014-09-19</th>\n",
              "      <td>14.213333</td>\n",
              "      <td>NaN</td>\n",
              "    </tr>\n",
              "    <tr>\n",
              "      <th>2014-09-22</th>\n",
              "      <td>13.858333</td>\n",
              "      <td>NaN</td>\n",
              "    </tr>\n",
              "  </tbody>\n",
              "</table>\n",
              "</div>"
            ],
            "text/plain": [
              "              Close_x  Close_y\n",
              "Date                          \n",
              "2014-09-16  14.000000      NaN\n",
              "2014-09-17  14.148333      NaN\n",
              "2014-09-18  14.458333      NaN\n",
              "2014-09-19  14.213333      NaN\n",
              "2014-09-22  13.858333      NaN"
            ]
          },
          "metadata": {
            "tags": []
          },
          "execution_count": 99
        }
      ]
    },
    {
      "cell_type": "code",
      "metadata": {
        "colab": {
          "base_uri": "https://localhost:8080/",
          "height": 235
        },
        "id": "uPE73qbiWCod",
        "outputId": "1afb2b23-fbc8-4729-e55d-b7e33740dd47"
      },
      "source": [
        "dfm3= pd.merge(dfm2,dataset_raw44, on= \"Date\", how=\"outer\")\n",
        "#dfm= pd.merge(dfo,dfo1, on= \"Date\", how=\"outer\")\n",
        "dfm3.head()"
      ],
      "execution_count": 100,
      "outputs": [
        {
          "output_type": "execute_result",
          "data": {
            "text/html": [
              "<div>\n",
              "<style scoped>\n",
              "    .dataframe tbody tr th:only-of-type {\n",
              "        vertical-align: middle;\n",
              "    }\n",
              "\n",
              "    .dataframe tbody tr th {\n",
              "        vertical-align: top;\n",
              "    }\n",
              "\n",
              "    .dataframe thead th {\n",
              "        text-align: right;\n",
              "    }\n",
              "</style>\n",
              "<table border=\"1\" class=\"dataframe\">\n",
              "  <thead>\n",
              "    <tr style=\"text-align: right;\">\n",
              "      <th></th>\n",
              "      <th>Close_x</th>\n",
              "      <th>Close_y</th>\n",
              "      <th>Close</th>\n",
              "    </tr>\n",
              "    <tr>\n",
              "      <th>Date</th>\n",
              "      <th></th>\n",
              "      <th></th>\n",
              "      <th></th>\n",
              "    </tr>\n",
              "  </thead>\n",
              "  <tbody>\n",
              "    <tr>\n",
              "      <th>2014-09-16</th>\n",
              "      <td>14.000000</td>\n",
              "      <td>NaN</td>\n",
              "      <td>588.780029</td>\n",
              "    </tr>\n",
              "    <tr>\n",
              "      <th>2014-09-17</th>\n",
              "      <td>14.148333</td>\n",
              "      <td>NaN</td>\n",
              "      <td>593.289978</td>\n",
              "    </tr>\n",
              "    <tr>\n",
              "      <th>2014-09-18</th>\n",
              "      <td>14.458333</td>\n",
              "      <td>NaN</td>\n",
              "      <td>597.270020</td>\n",
              "    </tr>\n",
              "    <tr>\n",
              "      <th>2014-09-19</th>\n",
              "      <td>14.213333</td>\n",
              "      <td>NaN</td>\n",
              "      <td>605.400024</td>\n",
              "    </tr>\n",
              "    <tr>\n",
              "      <th>2014-09-22</th>\n",
              "      <td>13.858333</td>\n",
              "      <td>NaN</td>\n",
              "      <td>597.270020</td>\n",
              "    </tr>\n",
              "  </tbody>\n",
              "</table>\n",
              "</div>"
            ],
            "text/plain": [
              "              Close_x  Close_y       Close\n",
              "Date                                      \n",
              "2014-09-16  14.000000      NaN  588.780029\n",
              "2014-09-17  14.148333      NaN  593.289978\n",
              "2014-09-18  14.458333      NaN  597.270020\n",
              "2014-09-19  14.213333      NaN  605.400024\n",
              "2014-09-22  13.858333      NaN  597.270020"
            ]
          },
          "metadata": {
            "tags": []
          },
          "execution_count": 100
        }
      ]
    },
    {
      "cell_type": "code",
      "metadata": {
        "colab": {
          "base_uri": "https://localhost:8080/",
          "height": 235
        },
        "id": "IxFJAXIGWaKz",
        "outputId": "6387e7ea-b3ee-4344-a754-8c2e26e9a84d"
      },
      "source": [
        "dfm3.columns = ['Close_usd', \"Close_eth\",\"Close_googl\"]\n",
        "dfm3.head()"
      ],
      "execution_count": 101,
      "outputs": [
        {
          "output_type": "execute_result",
          "data": {
            "text/html": [
              "<div>\n",
              "<style scoped>\n",
              "    .dataframe tbody tr th:only-of-type {\n",
              "        vertical-align: middle;\n",
              "    }\n",
              "\n",
              "    .dataframe tbody tr th {\n",
              "        vertical-align: top;\n",
              "    }\n",
              "\n",
              "    .dataframe thead th {\n",
              "        text-align: right;\n",
              "    }\n",
              "</style>\n",
              "<table border=\"1\" class=\"dataframe\">\n",
              "  <thead>\n",
              "    <tr style=\"text-align: right;\">\n",
              "      <th></th>\n",
              "      <th>Close_usd</th>\n",
              "      <th>Close_eth</th>\n",
              "      <th>Close_googl</th>\n",
              "    </tr>\n",
              "    <tr>\n",
              "      <th>Date</th>\n",
              "      <th></th>\n",
              "      <th></th>\n",
              "      <th></th>\n",
              "    </tr>\n",
              "  </thead>\n",
              "  <tbody>\n",
              "    <tr>\n",
              "      <th>2014-09-16</th>\n",
              "      <td>14.000000</td>\n",
              "      <td>NaN</td>\n",
              "      <td>588.780029</td>\n",
              "    </tr>\n",
              "    <tr>\n",
              "      <th>2014-09-17</th>\n",
              "      <td>14.148333</td>\n",
              "      <td>NaN</td>\n",
              "      <td>593.289978</td>\n",
              "    </tr>\n",
              "    <tr>\n",
              "      <th>2014-09-18</th>\n",
              "      <td>14.458333</td>\n",
              "      <td>NaN</td>\n",
              "      <td>597.270020</td>\n",
              "    </tr>\n",
              "    <tr>\n",
              "      <th>2014-09-19</th>\n",
              "      <td>14.213333</td>\n",
              "      <td>NaN</td>\n",
              "      <td>605.400024</td>\n",
              "    </tr>\n",
              "    <tr>\n",
              "      <th>2014-09-22</th>\n",
              "      <td>13.858333</td>\n",
              "      <td>NaN</td>\n",
              "      <td>597.270020</td>\n",
              "    </tr>\n",
              "  </tbody>\n",
              "</table>\n",
              "</div>"
            ],
            "text/plain": [
              "            Close_usd  Close_eth  Close_googl\n",
              "Date                                         \n",
              "2014-09-16  14.000000        NaN   588.780029\n",
              "2014-09-17  14.148333        NaN   593.289978\n",
              "2014-09-18  14.458333        NaN   597.270020\n",
              "2014-09-19  14.213333        NaN   605.400024\n",
              "2014-09-22  13.858333        NaN   597.270020"
            ]
          },
          "metadata": {
            "tags": []
          },
          "execution_count": 101
        }
      ]
    },
    {
      "cell_type": "code",
      "metadata": {
        "id": "2eAoVIdRPw0k"
      },
      "source": [
        "#dataset_raw1.isnull().sum()"
      ],
      "execution_count": 102,
      "outputs": []
    },
    {
      "cell_type": "code",
      "metadata": {
        "colab": {
          "base_uri": "https://localhost:8080/",
          "height": 337
        },
        "id": "5fxNIwVFQlRQ",
        "outputId": "99db04c0-50e1-4ca1-c320-28ab7f3597a6"
      },
      "source": [
        "dfm= pd.merge(dataset_raw,dataset_raw1, on= \"Date\", how=\"outer\")\n",
        "#dfm= pd.merge(dfo,dfo1, on= \"Date\", how=\"outer\")\n",
        "dfm.head()"
      ],
      "execution_count": 103,
      "outputs": [
        {
          "output_type": "execute_result",
          "data": {
            "text/html": [
              "<div>\n",
              "<style scoped>\n",
              "    .dataframe tbody tr th:only-of-type {\n",
              "        vertical-align: middle;\n",
              "    }\n",
              "\n",
              "    .dataframe tbody tr th {\n",
              "        vertical-align: top;\n",
              "    }\n",
              "\n",
              "    .dataframe thead th {\n",
              "        text-align: right;\n",
              "    }\n",
              "</style>\n",
              "<table border=\"1\" class=\"dataframe\">\n",
              "  <thead>\n",
              "    <tr style=\"text-align: right;\">\n",
              "      <th></th>\n",
              "      <th>High_x</th>\n",
              "      <th>Low_x</th>\n",
              "      <th>Open_x</th>\n",
              "      <th>Close_x</th>\n",
              "      <th>Volume_x</th>\n",
              "      <th>Adj Close_x</th>\n",
              "      <th>High_y</th>\n",
              "      <th>Low_y</th>\n",
              "      <th>Open_y</th>\n",
              "      <th>Close_y</th>\n",
              "      <th>Volume_y</th>\n",
              "      <th>Adj Close_y</th>\n",
              "    </tr>\n",
              "    <tr>\n",
              "      <th>Date</th>\n",
              "      <th></th>\n",
              "      <th></th>\n",
              "      <th></th>\n",
              "      <th></th>\n",
              "      <th></th>\n",
              "      <th></th>\n",
              "      <th></th>\n",
              "      <th></th>\n",
              "      <th></th>\n",
              "      <th></th>\n",
              "      <th></th>\n",
              "      <th></th>\n",
              "    </tr>\n",
              "  </thead>\n",
              "  <tbody>\n",
              "    <tr>\n",
              "      <th>2014-09-16</th>\n",
              "      <td>468.174011</td>\n",
              "      <td>452.421997</td>\n",
              "      <td>465.864014</td>\n",
              "      <td>457.334015</td>\n",
              "      <td>21056800.0</td>\n",
              "      <td>457.334015</td>\n",
              "      <td>2002.280029</td>\n",
              "      <td>1979.060059</td>\n",
              "      <td>1981.930054</td>\n",
              "      <td>1998.979980</td>\n",
              "      <td>3.160310e+09</td>\n",
              "      <td>1998.979980</td>\n",
              "    </tr>\n",
              "    <tr>\n",
              "      <th>2014-09-17</th>\n",
              "      <td>456.859985</td>\n",
              "      <td>413.104004</td>\n",
              "      <td>456.859985</td>\n",
              "      <td>424.440002</td>\n",
              "      <td>34483200.0</td>\n",
              "      <td>424.440002</td>\n",
              "      <td>2010.739990</td>\n",
              "      <td>1993.290039</td>\n",
              "      <td>1999.300049</td>\n",
              "      <td>2001.569946</td>\n",
              "      <td>3.209420e+09</td>\n",
              "      <td>2001.569946</td>\n",
              "    </tr>\n",
              "    <tr>\n",
              "      <th>2014-09-18</th>\n",
              "      <td>427.834991</td>\n",
              "      <td>384.532013</td>\n",
              "      <td>424.102997</td>\n",
              "      <td>394.795990</td>\n",
              "      <td>37919700.0</td>\n",
              "      <td>394.795990</td>\n",
              "      <td>2012.339966</td>\n",
              "      <td>2003.069946</td>\n",
              "      <td>2003.069946</td>\n",
              "      <td>2011.359985</td>\n",
              "      <td>3.235340e+09</td>\n",
              "      <td>2011.359985</td>\n",
              "    </tr>\n",
              "    <tr>\n",
              "      <th>2014-09-19</th>\n",
              "      <td>423.295990</td>\n",
              "      <td>389.882996</td>\n",
              "      <td>394.673004</td>\n",
              "      <td>408.903992</td>\n",
              "      <td>36863600.0</td>\n",
              "      <td>408.903992</td>\n",
              "      <td>2019.260010</td>\n",
              "      <td>2006.589966</td>\n",
              "      <td>2012.739990</td>\n",
              "      <td>2010.400024</td>\n",
              "      <td>4.880220e+09</td>\n",
              "      <td>2010.400024</td>\n",
              "    </tr>\n",
              "    <tr>\n",
              "      <th>2014-09-20</th>\n",
              "      <td>412.425995</td>\n",
              "      <td>393.181000</td>\n",
              "      <td>408.084991</td>\n",
              "      <td>398.821014</td>\n",
              "      <td>26580100.0</td>\n",
              "      <td>398.821014</td>\n",
              "      <td>NaN</td>\n",
              "      <td>NaN</td>\n",
              "      <td>NaN</td>\n",
              "      <td>NaN</td>\n",
              "      <td>NaN</td>\n",
              "      <td>NaN</td>\n",
              "    </tr>\n",
              "  </tbody>\n",
              "</table>\n",
              "</div>"
            ],
            "text/plain": [
              "                High_x       Low_x  ...      Volume_y  Adj Close_y\n",
              "Date                                ...                           \n",
              "2014-09-16  468.174011  452.421997  ...  3.160310e+09  1998.979980\n",
              "2014-09-17  456.859985  413.104004  ...  3.209420e+09  2001.569946\n",
              "2014-09-18  427.834991  384.532013  ...  3.235340e+09  2011.359985\n",
              "2014-09-19  423.295990  389.882996  ...  4.880220e+09  2010.400024\n",
              "2014-09-20  412.425995  393.181000  ...           NaN          NaN\n",
              "\n",
              "[5 rows x 12 columns]"
            ]
          },
          "metadata": {
            "tags": []
          },
          "execution_count": 103
        }
      ]
    },
    {
      "cell_type": "code",
      "metadata": {
        "id": "dIzdZHt6Q6ID"
      },
      "source": [
        "# Esto completa columnas NAN con el valor previo\n",
        "dfm1 = dfm.fillna(method='pad')"
      ],
      "execution_count": 104,
      "outputs": []
    },
    {
      "cell_type": "code",
      "metadata": {
        "colab": {
          "base_uri": "https://localhost:8080/",
          "height": 337
        },
        "id": "gj_7V2EwRdFq",
        "outputId": "41f9bb6e-3f06-46f9-a335-d54101b708aa"
      },
      "source": [
        "dfm1.head()"
      ],
      "execution_count": 105,
      "outputs": [
        {
          "output_type": "execute_result",
          "data": {
            "text/html": [
              "<div>\n",
              "<style scoped>\n",
              "    .dataframe tbody tr th:only-of-type {\n",
              "        vertical-align: middle;\n",
              "    }\n",
              "\n",
              "    .dataframe tbody tr th {\n",
              "        vertical-align: top;\n",
              "    }\n",
              "\n",
              "    .dataframe thead th {\n",
              "        text-align: right;\n",
              "    }\n",
              "</style>\n",
              "<table border=\"1\" class=\"dataframe\">\n",
              "  <thead>\n",
              "    <tr style=\"text-align: right;\">\n",
              "      <th></th>\n",
              "      <th>High_x</th>\n",
              "      <th>Low_x</th>\n",
              "      <th>Open_x</th>\n",
              "      <th>Close_x</th>\n",
              "      <th>Volume_x</th>\n",
              "      <th>Adj Close_x</th>\n",
              "      <th>High_y</th>\n",
              "      <th>Low_y</th>\n",
              "      <th>Open_y</th>\n",
              "      <th>Close_y</th>\n",
              "      <th>Volume_y</th>\n",
              "      <th>Adj Close_y</th>\n",
              "    </tr>\n",
              "    <tr>\n",
              "      <th>Date</th>\n",
              "      <th></th>\n",
              "      <th></th>\n",
              "      <th></th>\n",
              "      <th></th>\n",
              "      <th></th>\n",
              "      <th></th>\n",
              "      <th></th>\n",
              "      <th></th>\n",
              "      <th></th>\n",
              "      <th></th>\n",
              "      <th></th>\n",
              "      <th></th>\n",
              "    </tr>\n",
              "  </thead>\n",
              "  <tbody>\n",
              "    <tr>\n",
              "      <th>2014-09-16</th>\n",
              "      <td>468.174011</td>\n",
              "      <td>452.421997</td>\n",
              "      <td>465.864014</td>\n",
              "      <td>457.334015</td>\n",
              "      <td>21056800.0</td>\n",
              "      <td>457.334015</td>\n",
              "      <td>2002.280029</td>\n",
              "      <td>1979.060059</td>\n",
              "      <td>1981.930054</td>\n",
              "      <td>1998.979980</td>\n",
              "      <td>3.160310e+09</td>\n",
              "      <td>1998.979980</td>\n",
              "    </tr>\n",
              "    <tr>\n",
              "      <th>2014-09-17</th>\n",
              "      <td>456.859985</td>\n",
              "      <td>413.104004</td>\n",
              "      <td>456.859985</td>\n",
              "      <td>424.440002</td>\n",
              "      <td>34483200.0</td>\n",
              "      <td>424.440002</td>\n",
              "      <td>2010.739990</td>\n",
              "      <td>1993.290039</td>\n",
              "      <td>1999.300049</td>\n",
              "      <td>2001.569946</td>\n",
              "      <td>3.209420e+09</td>\n",
              "      <td>2001.569946</td>\n",
              "    </tr>\n",
              "    <tr>\n",
              "      <th>2014-09-18</th>\n",
              "      <td>427.834991</td>\n",
              "      <td>384.532013</td>\n",
              "      <td>424.102997</td>\n",
              "      <td>394.795990</td>\n",
              "      <td>37919700.0</td>\n",
              "      <td>394.795990</td>\n",
              "      <td>2012.339966</td>\n",
              "      <td>2003.069946</td>\n",
              "      <td>2003.069946</td>\n",
              "      <td>2011.359985</td>\n",
              "      <td>3.235340e+09</td>\n",
              "      <td>2011.359985</td>\n",
              "    </tr>\n",
              "    <tr>\n",
              "      <th>2014-09-19</th>\n",
              "      <td>423.295990</td>\n",
              "      <td>389.882996</td>\n",
              "      <td>394.673004</td>\n",
              "      <td>408.903992</td>\n",
              "      <td>36863600.0</td>\n",
              "      <td>408.903992</td>\n",
              "      <td>2019.260010</td>\n",
              "      <td>2006.589966</td>\n",
              "      <td>2012.739990</td>\n",
              "      <td>2010.400024</td>\n",
              "      <td>4.880220e+09</td>\n",
              "      <td>2010.400024</td>\n",
              "    </tr>\n",
              "    <tr>\n",
              "      <th>2014-09-20</th>\n",
              "      <td>412.425995</td>\n",
              "      <td>393.181000</td>\n",
              "      <td>408.084991</td>\n",
              "      <td>398.821014</td>\n",
              "      <td>26580100.0</td>\n",
              "      <td>398.821014</td>\n",
              "      <td>2019.260010</td>\n",
              "      <td>2006.589966</td>\n",
              "      <td>2012.739990</td>\n",
              "      <td>2010.400024</td>\n",
              "      <td>4.880220e+09</td>\n",
              "      <td>2010.400024</td>\n",
              "    </tr>\n",
              "  </tbody>\n",
              "</table>\n",
              "</div>"
            ],
            "text/plain": [
              "                High_x       Low_x  ...      Volume_y  Adj Close_y\n",
              "Date                                ...                           \n",
              "2014-09-16  468.174011  452.421997  ...  3.160310e+09  1998.979980\n",
              "2014-09-17  456.859985  413.104004  ...  3.209420e+09  2001.569946\n",
              "2014-09-18  427.834991  384.532013  ...  3.235340e+09  2011.359985\n",
              "2014-09-19  423.295990  389.882996  ...  4.880220e+09  2010.400024\n",
              "2014-09-20  412.425995  393.181000  ...  4.880220e+09  2010.400024\n",
              "\n",
              "[5 rows x 12 columns]"
            ]
          },
          "metadata": {
            "tags": []
          },
          "execution_count": 105
        }
      ]
    },
    {
      "cell_type": "code",
      "metadata": {
        "colab": {
          "base_uri": "https://localhost:8080/",
          "height": 235
        },
        "id": "rjCk2CV7TYWb",
        "outputId": "34beeee8-c44b-4ea5-d231-46da885b0e79"
      },
      "source": [
        "dataframe = dfm1[['Close_x', \"Close_y\",\"Adj Close_x\"]]\n",
        "dataframe.head()"
      ],
      "execution_count": 106,
      "outputs": [
        {
          "output_type": "execute_result",
          "data": {
            "text/html": [
              "<div>\n",
              "<style scoped>\n",
              "    .dataframe tbody tr th:only-of-type {\n",
              "        vertical-align: middle;\n",
              "    }\n",
              "\n",
              "    .dataframe tbody tr th {\n",
              "        vertical-align: top;\n",
              "    }\n",
              "\n",
              "    .dataframe thead th {\n",
              "        text-align: right;\n",
              "    }\n",
              "</style>\n",
              "<table border=\"1\" class=\"dataframe\">\n",
              "  <thead>\n",
              "    <tr style=\"text-align: right;\">\n",
              "      <th></th>\n",
              "      <th>Close_x</th>\n",
              "      <th>Close_y</th>\n",
              "      <th>Adj Close_x</th>\n",
              "    </tr>\n",
              "    <tr>\n",
              "      <th>Date</th>\n",
              "      <th></th>\n",
              "      <th></th>\n",
              "      <th></th>\n",
              "    </tr>\n",
              "  </thead>\n",
              "  <tbody>\n",
              "    <tr>\n",
              "      <th>2014-09-16</th>\n",
              "      <td>457.334015</td>\n",
              "      <td>1998.979980</td>\n",
              "      <td>457.334015</td>\n",
              "    </tr>\n",
              "    <tr>\n",
              "      <th>2014-09-17</th>\n",
              "      <td>424.440002</td>\n",
              "      <td>2001.569946</td>\n",
              "      <td>424.440002</td>\n",
              "    </tr>\n",
              "    <tr>\n",
              "      <th>2014-09-18</th>\n",
              "      <td>394.795990</td>\n",
              "      <td>2011.359985</td>\n",
              "      <td>394.795990</td>\n",
              "    </tr>\n",
              "    <tr>\n",
              "      <th>2014-09-19</th>\n",
              "      <td>408.903992</td>\n",
              "      <td>2010.400024</td>\n",
              "      <td>408.903992</td>\n",
              "    </tr>\n",
              "    <tr>\n",
              "      <th>2014-09-20</th>\n",
              "      <td>398.821014</td>\n",
              "      <td>2010.400024</td>\n",
              "      <td>398.821014</td>\n",
              "    </tr>\n",
              "  </tbody>\n",
              "</table>\n",
              "</div>"
            ],
            "text/plain": [
              "               Close_x      Close_y  Adj Close_x\n",
              "Date                                            \n",
              "2014-09-16  457.334015  1998.979980   457.334015\n",
              "2014-09-17  424.440002  2001.569946   424.440002\n",
              "2014-09-18  394.795990  2011.359985   394.795990\n",
              "2014-09-19  408.903992  2010.400024   408.903992\n",
              "2014-09-20  398.821014  2010.400024   398.821014"
            ]
          },
          "metadata": {
            "tags": []
          },
          "execution_count": 106
        }
      ]
    },
    {
      "cell_type": "code",
      "metadata": {
        "id": "WgJT3-v7UV18"
      },
      "source": [
        ""
      ],
      "execution_count": null,
      "outputs": []
    },
    {
      "cell_type": "code",
      "metadata": {
        "id": "ZC161f0sVUMh"
      },
      "source": [
        "dataframe.columns = ['Close_btc', \"Close_sp\",\"Close_target\"]"
      ],
      "execution_count": 107,
      "outputs": []
    },
    {
      "cell_type": "code",
      "metadata": {
        "colab": {
          "base_uri": "https://localhost:8080/",
          "height": 235
        },
        "id": "s-W4Xvi8XZCS",
        "outputId": "be3e5417-7494-4e04-e369-13d48006fa17"
      },
      "source": [
        "dataframe1= pd.merge(dataframe,dfm3, on= \"Date\", how=\"outer\")\n",
        "#dfm= pd.merge(dfo,dfo1, on= \"Date\", how=\"outer\")\n",
        "dataframe1.head()"
      ],
      "execution_count": 108,
      "outputs": [
        {
          "output_type": "execute_result",
          "data": {
            "text/html": [
              "<div>\n",
              "<style scoped>\n",
              "    .dataframe tbody tr th:only-of-type {\n",
              "        vertical-align: middle;\n",
              "    }\n",
              "\n",
              "    .dataframe tbody tr th {\n",
              "        vertical-align: top;\n",
              "    }\n",
              "\n",
              "    .dataframe thead th {\n",
              "        text-align: right;\n",
              "    }\n",
              "</style>\n",
              "<table border=\"1\" class=\"dataframe\">\n",
              "  <thead>\n",
              "    <tr style=\"text-align: right;\">\n",
              "      <th></th>\n",
              "      <th>Close_btc</th>\n",
              "      <th>Close_sp</th>\n",
              "      <th>Close_target</th>\n",
              "      <th>Close_usd</th>\n",
              "      <th>Close_eth</th>\n",
              "      <th>Close_googl</th>\n",
              "    </tr>\n",
              "    <tr>\n",
              "      <th>Date</th>\n",
              "      <th></th>\n",
              "      <th></th>\n",
              "      <th></th>\n",
              "      <th></th>\n",
              "      <th></th>\n",
              "      <th></th>\n",
              "    </tr>\n",
              "  </thead>\n",
              "  <tbody>\n",
              "    <tr>\n",
              "      <th>2014-09-16</th>\n",
              "      <td>457.334015</td>\n",
              "      <td>1998.979980</td>\n",
              "      <td>457.334015</td>\n",
              "      <td>14.000000</td>\n",
              "      <td>NaN</td>\n",
              "      <td>588.780029</td>\n",
              "    </tr>\n",
              "    <tr>\n",
              "      <th>2014-09-17</th>\n",
              "      <td>424.440002</td>\n",
              "      <td>2001.569946</td>\n",
              "      <td>424.440002</td>\n",
              "      <td>14.148333</td>\n",
              "      <td>NaN</td>\n",
              "      <td>593.289978</td>\n",
              "    </tr>\n",
              "    <tr>\n",
              "      <th>2014-09-18</th>\n",
              "      <td>394.795990</td>\n",
              "      <td>2011.359985</td>\n",
              "      <td>394.795990</td>\n",
              "      <td>14.458333</td>\n",
              "      <td>NaN</td>\n",
              "      <td>597.270020</td>\n",
              "    </tr>\n",
              "    <tr>\n",
              "      <th>2014-09-19</th>\n",
              "      <td>408.903992</td>\n",
              "      <td>2010.400024</td>\n",
              "      <td>408.903992</td>\n",
              "      <td>14.213333</td>\n",
              "      <td>NaN</td>\n",
              "      <td>605.400024</td>\n",
              "    </tr>\n",
              "    <tr>\n",
              "      <th>2014-09-20</th>\n",
              "      <td>398.821014</td>\n",
              "      <td>2010.400024</td>\n",
              "      <td>398.821014</td>\n",
              "      <td>NaN</td>\n",
              "      <td>NaN</td>\n",
              "      <td>NaN</td>\n",
              "    </tr>\n",
              "  </tbody>\n",
              "</table>\n",
              "</div>"
            ],
            "text/plain": [
              "             Close_btc     Close_sp  ...  Close_eth  Close_googl\n",
              "Date                                 ...                        \n",
              "2014-09-16  457.334015  1998.979980  ...        NaN   588.780029\n",
              "2014-09-17  424.440002  2001.569946  ...        NaN   593.289978\n",
              "2014-09-18  394.795990  2011.359985  ...        NaN   597.270020\n",
              "2014-09-19  408.903992  2010.400024  ...        NaN   605.400024\n",
              "2014-09-20  398.821014  2010.400024  ...        NaN          NaN\n",
              "\n",
              "[5 rows x 6 columns]"
            ]
          },
          "metadata": {
            "tags": []
          },
          "execution_count": 108
        }
      ]
    },
    {
      "cell_type": "code",
      "metadata": {
        "id": "jGUrPrViXx1K"
      },
      "source": [
        "dataframe = dataframe1[['Close_btc', \"Close_sp\", \"Close_usd\", \"Close_eth\", \"Close_googl\", \"Close_target\"]]\n",
        "#dataframe1.columns = ['Close_btc', \"Close_gld\",\"Close_target\", \"Close_usd\", \"Close_oil\", \"Close_googl\"]"
      ],
      "execution_count": 109,
      "outputs": []
    },
    {
      "cell_type": "code",
      "metadata": {
        "colab": {
          "base_uri": "https://localhost:8080/",
          "height": 235
        },
        "id": "l86QrcW-VdYz",
        "outputId": "ba4e6633-6848-462a-efb7-b899451b5c06"
      },
      "source": [
        "dataframe.head()"
      ],
      "execution_count": 110,
      "outputs": [
        {
          "output_type": "execute_result",
          "data": {
            "text/html": [
              "<div>\n",
              "<style scoped>\n",
              "    .dataframe tbody tr th:only-of-type {\n",
              "        vertical-align: middle;\n",
              "    }\n",
              "\n",
              "    .dataframe tbody tr th {\n",
              "        vertical-align: top;\n",
              "    }\n",
              "\n",
              "    .dataframe thead th {\n",
              "        text-align: right;\n",
              "    }\n",
              "</style>\n",
              "<table border=\"1\" class=\"dataframe\">\n",
              "  <thead>\n",
              "    <tr style=\"text-align: right;\">\n",
              "      <th></th>\n",
              "      <th>Close_btc</th>\n",
              "      <th>Close_sp</th>\n",
              "      <th>Close_usd</th>\n",
              "      <th>Close_eth</th>\n",
              "      <th>Close_googl</th>\n",
              "      <th>Close_target</th>\n",
              "    </tr>\n",
              "    <tr>\n",
              "      <th>Date</th>\n",
              "      <th></th>\n",
              "      <th></th>\n",
              "      <th></th>\n",
              "      <th></th>\n",
              "      <th></th>\n",
              "      <th></th>\n",
              "    </tr>\n",
              "  </thead>\n",
              "  <tbody>\n",
              "    <tr>\n",
              "      <th>2014-09-16</th>\n",
              "      <td>457.334015</td>\n",
              "      <td>1998.979980</td>\n",
              "      <td>14.000000</td>\n",
              "      <td>NaN</td>\n",
              "      <td>588.780029</td>\n",
              "      <td>457.334015</td>\n",
              "    </tr>\n",
              "    <tr>\n",
              "      <th>2014-09-17</th>\n",
              "      <td>424.440002</td>\n",
              "      <td>2001.569946</td>\n",
              "      <td>14.148333</td>\n",
              "      <td>NaN</td>\n",
              "      <td>593.289978</td>\n",
              "      <td>424.440002</td>\n",
              "    </tr>\n",
              "    <tr>\n",
              "      <th>2014-09-18</th>\n",
              "      <td>394.795990</td>\n",
              "      <td>2011.359985</td>\n",
              "      <td>14.458333</td>\n",
              "      <td>NaN</td>\n",
              "      <td>597.270020</td>\n",
              "      <td>394.795990</td>\n",
              "    </tr>\n",
              "    <tr>\n",
              "      <th>2014-09-19</th>\n",
              "      <td>408.903992</td>\n",
              "      <td>2010.400024</td>\n",
              "      <td>14.213333</td>\n",
              "      <td>NaN</td>\n",
              "      <td>605.400024</td>\n",
              "      <td>408.903992</td>\n",
              "    </tr>\n",
              "    <tr>\n",
              "      <th>2014-09-20</th>\n",
              "      <td>398.821014</td>\n",
              "      <td>2010.400024</td>\n",
              "      <td>NaN</td>\n",
              "      <td>NaN</td>\n",
              "      <td>NaN</td>\n",
              "      <td>398.821014</td>\n",
              "    </tr>\n",
              "  </tbody>\n",
              "</table>\n",
              "</div>"
            ],
            "text/plain": [
              "             Close_btc     Close_sp  ...  Close_googl  Close_target\n",
              "Date                                 ...                           \n",
              "2014-09-16  457.334015  1998.979980  ...   588.780029    457.334015\n",
              "2014-09-17  424.440002  2001.569946  ...   593.289978    424.440002\n",
              "2014-09-18  394.795990  2011.359985  ...   597.270020    394.795990\n",
              "2014-09-19  408.903992  2010.400024  ...   605.400024    408.903992\n",
              "2014-09-20  398.821014  2010.400024  ...          NaN    398.821014\n",
              "\n",
              "[5 rows x 6 columns]"
            ]
          },
          "metadata": {
            "tags": []
          },
          "execution_count": 110
        }
      ]
    },
    {
      "cell_type": "code",
      "metadata": {
        "id": "Ktmnzg8xXTve"
      },
      "source": [
        "# Esto completa columnas NAN con el valor previo\n",
        "dataframe = dataframe.fillna(method='pad')"
      ],
      "execution_count": 111,
      "outputs": []
    },
    {
      "cell_type": "code",
      "metadata": {
        "colab": {
          "base_uri": "https://localhost:8080/",
          "height": 235
        },
        "id": "PY_R1fHjc1L0",
        "outputId": "b731d4ad-6fa8-421f-dae8-eff8befda29a"
      },
      "source": [
        "dataframe.head()"
      ],
      "execution_count": 112,
      "outputs": [
        {
          "output_type": "execute_result",
          "data": {
            "text/html": [
              "<div>\n",
              "<style scoped>\n",
              "    .dataframe tbody tr th:only-of-type {\n",
              "        vertical-align: middle;\n",
              "    }\n",
              "\n",
              "    .dataframe tbody tr th {\n",
              "        vertical-align: top;\n",
              "    }\n",
              "\n",
              "    .dataframe thead th {\n",
              "        text-align: right;\n",
              "    }\n",
              "</style>\n",
              "<table border=\"1\" class=\"dataframe\">\n",
              "  <thead>\n",
              "    <tr style=\"text-align: right;\">\n",
              "      <th></th>\n",
              "      <th>Close_btc</th>\n",
              "      <th>Close_sp</th>\n",
              "      <th>Close_usd</th>\n",
              "      <th>Close_eth</th>\n",
              "      <th>Close_googl</th>\n",
              "      <th>Close_target</th>\n",
              "    </tr>\n",
              "    <tr>\n",
              "      <th>Date</th>\n",
              "      <th></th>\n",
              "      <th></th>\n",
              "      <th></th>\n",
              "      <th></th>\n",
              "      <th></th>\n",
              "      <th></th>\n",
              "    </tr>\n",
              "  </thead>\n",
              "  <tbody>\n",
              "    <tr>\n",
              "      <th>2014-09-16</th>\n",
              "      <td>457.334015</td>\n",
              "      <td>1998.979980</td>\n",
              "      <td>14.000000</td>\n",
              "      <td>NaN</td>\n",
              "      <td>588.780029</td>\n",
              "      <td>457.334015</td>\n",
              "    </tr>\n",
              "    <tr>\n",
              "      <th>2014-09-17</th>\n",
              "      <td>424.440002</td>\n",
              "      <td>2001.569946</td>\n",
              "      <td>14.148333</td>\n",
              "      <td>NaN</td>\n",
              "      <td>593.289978</td>\n",
              "      <td>424.440002</td>\n",
              "    </tr>\n",
              "    <tr>\n",
              "      <th>2014-09-18</th>\n",
              "      <td>394.795990</td>\n",
              "      <td>2011.359985</td>\n",
              "      <td>14.458333</td>\n",
              "      <td>NaN</td>\n",
              "      <td>597.270020</td>\n",
              "      <td>394.795990</td>\n",
              "    </tr>\n",
              "    <tr>\n",
              "      <th>2014-09-19</th>\n",
              "      <td>408.903992</td>\n",
              "      <td>2010.400024</td>\n",
              "      <td>14.213333</td>\n",
              "      <td>NaN</td>\n",
              "      <td>605.400024</td>\n",
              "      <td>408.903992</td>\n",
              "    </tr>\n",
              "    <tr>\n",
              "      <th>2014-09-20</th>\n",
              "      <td>398.821014</td>\n",
              "      <td>2010.400024</td>\n",
              "      <td>14.213333</td>\n",
              "      <td>NaN</td>\n",
              "      <td>605.400024</td>\n",
              "      <td>398.821014</td>\n",
              "    </tr>\n",
              "  </tbody>\n",
              "</table>\n",
              "</div>"
            ],
            "text/plain": [
              "             Close_btc     Close_sp  ...  Close_googl  Close_target\n",
              "Date                                 ...                           \n",
              "2014-09-16  457.334015  1998.979980  ...   588.780029    457.334015\n",
              "2014-09-17  424.440002  2001.569946  ...   593.289978    424.440002\n",
              "2014-09-18  394.795990  2011.359985  ...   597.270020    394.795990\n",
              "2014-09-19  408.903992  2010.400024  ...   605.400024    408.903992\n",
              "2014-09-20  398.821014  2010.400024  ...   605.400024    398.821014\n",
              "\n",
              "[5 rows x 6 columns]"
            ]
          },
          "metadata": {
            "tags": []
          },
          "execution_count": 112
        }
      ]
    },
    {
      "cell_type": "code",
      "metadata": {
        "id": "1dBxlVfbk89w"
      },
      "source": [
        "# Esto completa columnas NAN con el valor posterior\n",
        "dataframe = dataframe.fillna(method='bfill')"
      ],
      "execution_count": 113,
      "outputs": []
    },
    {
      "cell_type": "code",
      "metadata": {
        "colab": {
          "base_uri": "https://localhost:8080/",
          "height": 235
        },
        "id": "nKnu4hkqlRd_",
        "outputId": "d984c3a0-71a6-496d-c4e9-d4174dfd557a"
      },
      "source": [
        "dataframe.head()"
      ],
      "execution_count": 114,
      "outputs": [
        {
          "output_type": "execute_result",
          "data": {
            "text/html": [
              "<div>\n",
              "<style scoped>\n",
              "    .dataframe tbody tr th:only-of-type {\n",
              "        vertical-align: middle;\n",
              "    }\n",
              "\n",
              "    .dataframe tbody tr th {\n",
              "        vertical-align: top;\n",
              "    }\n",
              "\n",
              "    .dataframe thead th {\n",
              "        text-align: right;\n",
              "    }\n",
              "</style>\n",
              "<table border=\"1\" class=\"dataframe\">\n",
              "  <thead>\n",
              "    <tr style=\"text-align: right;\">\n",
              "      <th></th>\n",
              "      <th>Close_btc</th>\n",
              "      <th>Close_sp</th>\n",
              "      <th>Close_usd</th>\n",
              "      <th>Close_eth</th>\n",
              "      <th>Close_googl</th>\n",
              "      <th>Close_target</th>\n",
              "    </tr>\n",
              "    <tr>\n",
              "      <th>Date</th>\n",
              "      <th></th>\n",
              "      <th></th>\n",
              "      <th></th>\n",
              "      <th></th>\n",
              "      <th></th>\n",
              "      <th></th>\n",
              "    </tr>\n",
              "  </thead>\n",
              "  <tbody>\n",
              "    <tr>\n",
              "      <th>2014-09-16</th>\n",
              "      <td>457.334015</td>\n",
              "      <td>1998.979980</td>\n",
              "      <td>14.000000</td>\n",
              "      <td>2.77212</td>\n",
              "      <td>588.780029</td>\n",
              "      <td>457.334015</td>\n",
              "    </tr>\n",
              "    <tr>\n",
              "      <th>2014-09-17</th>\n",
              "      <td>424.440002</td>\n",
              "      <td>2001.569946</td>\n",
              "      <td>14.148333</td>\n",
              "      <td>2.77212</td>\n",
              "      <td>593.289978</td>\n",
              "      <td>424.440002</td>\n",
              "    </tr>\n",
              "    <tr>\n",
              "      <th>2014-09-18</th>\n",
              "      <td>394.795990</td>\n",
              "      <td>2011.359985</td>\n",
              "      <td>14.458333</td>\n",
              "      <td>2.77212</td>\n",
              "      <td>597.270020</td>\n",
              "      <td>394.795990</td>\n",
              "    </tr>\n",
              "    <tr>\n",
              "      <th>2014-09-19</th>\n",
              "      <td>408.903992</td>\n",
              "      <td>2010.400024</td>\n",
              "      <td>14.213333</td>\n",
              "      <td>2.77212</td>\n",
              "      <td>605.400024</td>\n",
              "      <td>408.903992</td>\n",
              "    </tr>\n",
              "    <tr>\n",
              "      <th>2014-09-20</th>\n",
              "      <td>398.821014</td>\n",
              "      <td>2010.400024</td>\n",
              "      <td>14.213333</td>\n",
              "      <td>2.77212</td>\n",
              "      <td>605.400024</td>\n",
              "      <td>398.821014</td>\n",
              "    </tr>\n",
              "  </tbody>\n",
              "</table>\n",
              "</div>"
            ],
            "text/plain": [
              "             Close_btc     Close_sp  ...  Close_googl  Close_target\n",
              "Date                                 ...                           \n",
              "2014-09-16  457.334015  1998.979980  ...   588.780029    457.334015\n",
              "2014-09-17  424.440002  2001.569946  ...   593.289978    424.440002\n",
              "2014-09-18  394.795990  2011.359985  ...   597.270020    394.795990\n",
              "2014-09-19  408.903992  2010.400024  ...   605.400024    408.903992\n",
              "2014-09-20  398.821014  2010.400024  ...   605.400024    398.821014\n",
              "\n",
              "[5 rows x 6 columns]"
            ]
          },
          "metadata": {
            "tags": []
          },
          "execution_count": 114
        }
      ]
    },
    {
      "cell_type": "code",
      "metadata": {
        "colab": {
          "base_uri": "https://localhost:8080/"
        },
        "id": "3pzBn8YVygIj",
        "outputId": "b79ec70f-2fcb-4f15-849d-a393ffada796"
      },
      "source": [
        "#dataframe.values[0, :-1]\n",
        "dataframe.values[0 , :-1]"
      ],
      "execution_count": 115,
      "outputs": [
        {
          "output_type": "execute_result",
          "data": {
            "text/plain": [
              "array([ 457.33401489, 1998.97998047,   14.        ,    2.77212   ,\n",
              "        588.7800293 ])"
            ]
          },
          "metadata": {
            "tags": []
          },
          "execution_count": 115
        }
      ]
    },
    {
      "cell_type": "code",
      "metadata": {
        "colab": {
          "base_uri": "https://localhost:8080/"
        },
        "id": "Pt9smxKAyj-8",
        "outputId": "8cceb383-7e5d-4e3f-b095-9ed5affe83a7"
      },
      "source": [
        "dataframe.values[4, -1]\n",
        "#dataframe.values[0 , :-1]"
      ],
      "execution_count": 116,
      "outputs": [
        {
          "output_type": "execute_result",
          "data": {
            "text/plain": [
              "398.8210144042969"
            ]
          },
          "metadata": {
            "tags": []
          },
          "execution_count": 116
        }
      ]
    },
    {
      "cell_type": "code",
      "metadata": {
        "colab": {
          "base_uri": "https://localhost:8080/"
        },
        "id": "3rf02BfnykgL",
        "outputId": "fffb0068-1764-4a9b-df88-00e7de0b2b4d"
      },
      "source": [
        "numpy.append(dataframe.values[0 , :-1], dataframe.values[1, -1])\n",
        "#numpy.append(dataset_raw.values[0, :-1], dataset_raw.values[1, -1])"
      ],
      "execution_count": 117,
      "outputs": [
        {
          "output_type": "execute_result",
          "data": {
            "text/plain": [
              "array([ 457.33401489, 1998.97998047,   14.        ,    2.77212   ,\n",
              "        588.7800293 ,  424.44000244])"
            ]
          },
          "metadata": {
            "tags": []
          },
          "execution_count": 117
        }
      ]
    },
    {
      "cell_type": "code",
      "metadata": {
        "colab": {
          "base_uri": "https://localhost:8080/"
        },
        "id": "sZhzTlUtr0cs",
        "outputId": "28cecb41-f625-4e24-bbee-d00aa989e0f8"
      },
      "source": [
        "len(dataframe)"
      ],
      "execution_count": 118,
      "outputs": [
        {
          "output_type": "execute_result",
          "data": {
            "text/plain": [
              "2430"
            ]
          },
          "metadata": {
            "tags": []
          },
          "execution_count": 118
        }
      ]
    },
    {
      "cell_type": "code",
      "metadata": {
        "colab": {
          "base_uri": "https://localhost:8080/"
        },
        "id": "qt-kfaf5yoWH",
        "outputId": "e84aa6b5-55ed-408c-d76d-1e7b796acf93"
      },
      "source": [
        "\n",
        "def create_dataset(dataset):\n",
        "    data = []\n",
        "    for i in range(len(dataset)-5):\n",
        "        data.append(numpy.append(dataframe.values[i, :-1], dataframe.values[i+5, -1]))\n",
        "    return numpy.array(data)\n",
        "\n",
        "data = create_dataset(dataframe.values)\n",
        "print(data[:10])\n",
        "print(data.shape)"
      ],
      "execution_count": 125,
      "outputs": [
        {
          "output_type": "stream",
          "text": [
            "[[ 457.33401489 1998.97998047   14.            2.77212     588.7800293\n",
            "   402.15200806]\n",
            " [ 424.44000244 2001.56994629   14.1483326     2.77212     593.28997803\n",
            "   435.79098511]\n",
            " [ 394.79598999 2011.35998535   14.45833302    2.77212     597.27001953\n",
            "   423.20498657]\n",
            " [ 408.9039917  2010.40002441   14.21333313    2.77212     605.40002441\n",
            "   411.57400513]\n",
            " [ 398.8210144  2010.40002441   14.21333313    2.77212     605.40002441\n",
            "   404.42498779]\n",
            " [ 402.15200806 2010.40002441   14.21333313    2.77212     605.40002441\n",
            "   399.51998901]\n",
            " [ 435.79098511 1994.29003906   13.85833263    2.77212     597.27001953\n",
            "   377.18099976]\n",
            " [ 423.20498657 1982.77001953   13.78833294    2.77212     591.17999268\n",
            "   375.4670105 ]\n",
            " [ 411.57400513 1998.30004883   14.05000019    2.77212     598.41998291\n",
            "   386.94400024]\n",
            " [ 404.42498779 1965.98999023   13.57166672    2.77212     585.25\n",
            "   383.61499023]]\n",
            "(2425, 6)\n"
          ],
          "name": "stdout"
        }
      ]
    },
    {
      "cell_type": "code",
      "metadata": {
        "id": "8tL6U66Tyo75"
      },
      "source": [
        "# forecast Bitcoin price\n",
        "from numpy import asarray\n",
        "from pandas import read_csv\n",
        "from pandas import DataFrame\n",
        "from pandas import concat\n",
        "from sklearn.metrics import mean_absolute_error, r2_score\n",
        "from xgboost import XGBRegressor\n",
        "from matplotlib import pyplot\n",
        "import numpy as np\n",
        "from tqdm import tqdm\n",
        "\n",
        "# split a univariate dataset into train/test sets\n",
        "def train_test_split(data, n_test):\n",
        "\treturn data[:-n_test, :], data[-n_test:, :]\n",
        "\n",
        "# fit an xgboost model and make a one step prediction\n",
        "def xgboost_forecast(train, testX, n_estimators):\n",
        "\t# transform list into array\n",
        "\ttrain = asarray(train)\n",
        "\t# split into input and output columns\n",
        "\ttrainX, trainy = train[:, :-1], train[:, -1]\n",
        "\t# fit model\n",
        "\tmodel = XGBRegressor(objective='reg:squarederror', n_estimators=n_estimators)\n",
        "\tmodel.fit(trainX, trainy)\n",
        "\t# make a one-step prediction\n",
        "\tyhat = model.predict(asarray([testX]))\n",
        "\treturn yhat[0], model\n",
        "\n",
        "# walk-forward validation for univariate data\n",
        "def walk_forward_validation(data, n_test, n_estimators=10):\n",
        "    predictions = list()\n",
        "    models = list()\n",
        "    # split dataset\n",
        "    train, test = train_test_split(data, n_test)\n",
        "    # seed history with training dataset\n",
        "    history = [x for x in train]\n",
        "    # step over each time-step in the test set\n",
        "    for i in tqdm(range(len(test))):\n",
        "        # split test row into input and output columns\n",
        "        testX, testy = test[i, :-1], test[i, -1]\n",
        "        # fit model on history and make a prediction\n",
        "        yhat, model = xgboost_forecast(history, testX, n_estimators)\n",
        "        # store forecast in list of predictions\n",
        "        predictions.append(yhat)\n",
        "        models.append(model)\n",
        "        # add actual observation to history for the next loop\n",
        "        history.append(test[i])\n",
        "        # summarize progress\n",
        "        # print('>expected=%.1f, predicted=%.1f' % (testy, yhat))\n",
        "    # estimate prediction error\n",
        "    error = r2_score(test[:, -1], predictions)\n",
        "    #errortrain= r2_score(train[:, -1], predictions)\n",
        "    return error, test[:, -1], predictions, models"
      ],
      "execution_count": 141,
      "outputs": []
    },
    {
      "cell_type": "code",
      "metadata": {
        "colab": {
          "base_uri": "https://localhost:8080/",
          "height": 353
        },
        "id": "HFbG2G1rl4Sn",
        "outputId": "63f01b8d-75fb-4568-d5dc-968844e2f82e"
      },
      "source": [
        "r2_score, y, yhat, models = walk_forward_validation(data, n_test=2000, n_estimators=50)\n",
        "print('r2: %.3f' % r2_score)\n",
        "#print('r2: %.3f' % errortrain)\n",
        "\n",
        "# plot expected vs preducted\n",
        "pyplot.plot(y, label='Expected')\n",
        "pyplot.plot(yhat, label='Predicted')\n",
        "pyplot.legend()\n",
        "pyplot.show()"
      ],
      "execution_count": 142,
      "outputs": [
        {
          "output_type": "stream",
          "text": [
            "  0%|          | 0/2000 [00:00<?, ?it/s]/usr/local/lib/python3.7/dist-packages/xgboost/core.py:613: UserWarning: Use subset (sliced data) of np.ndarray is not recommended because it will generate extra copies and increase memory consumption\n",
            "  warnings.warn(\"Use subset (sliced data) of np.ndarray is not recommended \" +\n",
            "100%|██████████| 2000/2000 [01:24<00:00, 23.81it/s]\n"
          ],
          "name": "stderr"
        },
        {
          "output_type": "stream",
          "text": [
            "r2: 0.991\n"
          ],
          "name": "stdout"
        },
        {
          "output_type": "display_data",
          "data": {
            "image/png": "[encoded data removed]",
            "text/plain": [
              "<Figure size 432x288 with 1 Axes>"
            ]
          },
          "metadata": {
            "tags": [],
            "needs_background": "light"
          }
        }
      ]
    },
    {
      "cell_type": "code",
      "metadata": {
        "colab": {
          "base_uri": "https://localhost:8080/"
        },
        "id": "Efp3IkYfyl30",
        "outputId": "f2a7b404-a8f9-43df-caae-4a8a725f7219"
      },
      "source": [
        "y"
      ],
      "execution_count": 143,
      "outputs": [
        {
          "output_type": "execute_result",
          "data": {
            "text/plain": [
              "array([  326.92700195,   324.53601074,   323.04598999, ...,\n",
              "       57024.98828125, 57024.98828125, 57024.98828125])"
            ]
          },
          "metadata": {
            "tags": []
          },
          "execution_count": 143
        }
      ]
    },
    {
      "cell_type": "code",
      "metadata": {
        "colab": {
          "base_uri": "https://localhost:8080/"
        },
        "id": "vtxX4SvKynsQ",
        "outputId": "d6cb5174-4350-466f-fcee-efb57897b6c1"
      },
      "source": [
        "yhat[-1]"
      ],
      "execution_count": 144,
      "outputs": [
        {
          "output_type": "execute_result",
          "data": {
            "text/plain": [
              "54948.33"
            ]
          },
          "metadata": {
            "tags": []
          },
          "execution_count": 144
        }
      ]
    },
    {
      "cell_type": "code",
      "metadata": {
        "colab": {
          "base_uri": "https://localhost:8080/",
          "height": 1000
        },
        "id": "4Q5gaslmyvDG",
        "outputId": "30248978-0280-4543-d9ee-7a43061c321e"
      },
      "source": [
        "import seaborn as sns\n",
        "sns.pairplot(dataframe)"
      ],
      "execution_count": 72,
      "outputs": [
        {
          "output_type": "execute_result",
          "data": {
            "text/plain": [
              "<seaborn.axisgrid.PairGrid at 0x7fdd8da01350>"
            ]
          },
          "metadata": {
            "tags": []
          },
          "execution_count": 72
        },
        {
          "output_type": "display_data",
          "data": {
            "image/png": "[encoded data removed]",
            "text/plain": [
              "<Figure size 1080x1080 with 42 Axes>"
            ]
          },
          "metadata": {
            "tags": [],
            "needs_background": "light"
          }
        }
      ]
    },
    {
      "cell_type": "code",
      "metadata": {
        "id": "VnL3XnfLyy0b"
      },
      "source": [
        "cols = dataframe.columns[:-1]\n",
        "imps = numpy.stack([m.feature_importances_ for m in models])"
      ],
      "execution_count": 73,
      "outputs": []
    },
    {
      "cell_type": "code",
      "metadata": {
        "colab": {
          "base_uri": "https://localhost:8080/"
        },
        "id": "TvPUKA7SyzZi",
        "outputId": "894a80fd-36cd-4d96-87f5-0057ed1f0e1e"
      },
      "source": [
        "imps.shape"
      ],
      "execution_count": 74,
      "outputs": [
        {
          "output_type": "execute_result",
          "data": {
            "text/plain": [
              "(2000, 5)"
            ]
          },
          "metadata": {
            "tags": []
          },
          "execution_count": 74
        }
      ]
    },
    {
      "cell_type": "code",
      "metadata": {
        "colab": {
          "base_uri": "https://localhost:8080/",
          "height": 297
        },
        "id": "d_aZLr6hy1b6",
        "outputId": "52ad54b2-2d75-4a9f-9bbd-4b77813c1f84"
      },
      "source": [
        "feature_importances = DataFrame(imps, columns=cols)\n",
        "# feature_importances = feature_importances.sort_values(by='imp',ascending=False)\n",
        "# px.bar(feature_importances,x='col',y='imp')\n",
        "feature_importances.describe()"
      ],
      "execution_count": 75,
      "outputs": [
        {
          "output_type": "execute_result",
          "data": {
            "text/html": [
              "<div>\n",
              "<style scoped>\n",
              "    .dataframe tbody tr th:only-of-type {\n",
              "        vertical-align: middle;\n",
              "    }\n",
              "\n",
              "    .dataframe tbody tr th {\n",
              "        vertical-align: top;\n",
              "    }\n",
              "\n",
              "    .dataframe thead th {\n",
              "        text-align: right;\n",
              "    }\n",
              "</style>\n",
              "<table border=\"1\" class=\"dataframe\">\n",
              "  <thead>\n",
              "    <tr style=\"text-align: right;\">\n",
              "      <th></th>\n",
              "      <th>Close_btc</th>\n",
              "      <th>Close_sp</th>\n",
              "      <th>Close_usd</th>\n",
              "      <th>Close_eth</th>\n",
              "      <th>Close_googl</th>\n",
              "    </tr>\n",
              "  </thead>\n",
              "  <tbody>\n",
              "    <tr>\n",
              "      <th>count</th>\n",
              "      <td>2000.000000</td>\n",
              "      <td>2000.000000</td>\n",
              "      <td>2000.000000</td>\n",
              "      <td>2000.000000</td>\n",
              "      <td>2000.000000</td>\n",
              "    </tr>\n",
              "    <tr>\n",
              "      <th>mean</th>\n",
              "      <td>0.777884</td>\n",
              "      <td>0.045969</td>\n",
              "      <td>0.112796</td>\n",
              "      <td>0.030553</td>\n",
              "      <td>0.032798</td>\n",
              "    </tr>\n",
              "    <tr>\n",
              "      <th>std</th>\n",
              "      <td>0.309411</td>\n",
              "      <td>0.096109</td>\n",
              "      <td>0.221465</td>\n",
              "      <td>0.100459</td>\n",
              "      <td>0.052059</td>\n",
              "    </tr>\n",
              "    <tr>\n",
              "      <th>min</th>\n",
              "      <td>0.065348</td>\n",
              "      <td>0.000656</td>\n",
              "      <td>0.001308</td>\n",
              "      <td>0.000000</td>\n",
              "      <td>0.000000</td>\n",
              "    </tr>\n",
              "    <tr>\n",
              "      <th>25%</th>\n",
              "      <td>0.733711</td>\n",
              "      <td>0.004148</td>\n",
              "      <td>0.004461</td>\n",
              "      <td>0.003789</td>\n",
              "      <td>0.004779</td>\n",
              "    </tr>\n",
              "    <tr>\n",
              "      <th>50%</th>\n",
              "      <td>0.956866</td>\n",
              "      <td>0.005542</td>\n",
              "      <td>0.006587</td>\n",
              "      <td>0.006572</td>\n",
              "      <td>0.010241</td>\n",
              "    </tr>\n",
              "    <tr>\n",
              "      <th>75%</th>\n",
              "      <td>0.976025</td>\n",
              "      <td>0.042453</td>\n",
              "      <td>0.060543</td>\n",
              "      <td>0.015331</td>\n",
              "      <td>0.035061</td>\n",
              "    </tr>\n",
              "    <tr>\n",
              "      <th>max</th>\n",
              "      <td>0.989202</td>\n",
              "      <td>0.705943</td>\n",
              "      <td>0.796969</td>\n",
              "      <td>0.838109</td>\n",
              "      <td>0.465631</td>\n",
              "    </tr>\n",
              "  </tbody>\n",
              "</table>\n",
              "</div>"
            ],
            "text/plain": [
              "         Close_btc     Close_sp    Close_usd    Close_eth  Close_googl\n",
              "count  2000.000000  2000.000000  2000.000000  2000.000000  2000.000000\n",
              "mean      0.777884     0.045969     0.112796     0.030553     0.032798\n",
              "std       0.309411     0.096109     0.221465     0.100459     0.052059\n",
              "min       0.065348     0.000656     0.001308     0.000000     0.000000\n",
              "25%       0.733711     0.004148     0.004461     0.003789     0.004779\n",
              "50%       0.956866     0.005542     0.006587     0.006572     0.010241\n",
              "75%       0.976025     0.042453     0.060543     0.015331     0.035061\n",
              "max       0.989202     0.705943     0.796969     0.838109     0.465631"
            ]
          },
          "metadata": {
            "tags": []
          },
          "execution_count": 75
        }
      ]
    },
    {
      "cell_type": "code",
      "metadata": {
        "id": "3USgt10EOCzx"
      },
      "source": [
        ""
      ],
      "execution_count": null,
      "outputs": []
    },
    {
      "cell_type": "code",
      "metadata": {
        "id": "ap7Fn6nKOCxS"
      },
      "source": [
        ""
      ],
      "execution_count": null,
      "outputs": []
    },
    {
      "cell_type": "code",
      "metadata": {
        "id": "WrrVQIx6OCvC"
      },
      "source": [
        ""
      ],
      "execution_count": null,
      "outputs": []
    }
  ]
}