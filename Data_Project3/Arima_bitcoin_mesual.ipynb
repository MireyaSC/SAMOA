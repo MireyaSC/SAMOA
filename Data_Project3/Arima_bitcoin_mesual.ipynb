{
  "nbformat": 4,
  "nbformat_minor": 0,
  "metadata": {
    "colab": {
      "name": "Arima_bitcoin.ipynb",
      "provenance": [],
      "collapsed_sections": []
    },
    "kernelspec": {
      "name": "python3",
      "display_name": "Python 3"
    },
    "language_info": {
      "name": "python"
    }
  },
  "cells": [
    {
      "cell_type": "code",
      "metadata": {
        "id": "5aDjYBQzKdCa"
      },
      "source": [
        "%reset -f"
      ],
      "execution_count": 58,
      "outputs": []
    },
    {
      "cell_type": "code",
      "metadata": {
        "id": "X5biIqDnHWsa"
      },
      "source": [
        "import numpy as np\n",
        "import pandas as pd\n",
        "import matplotlib.pyplot as plt\n",
        "from statsmodels.tsa.arima_model import ARMA\n",
        "import warnings\n",
        "from itertools import product\n",
        "from datetime import datetime\n",
        "warnings.filterwarnings('ignore')\n",
        "import datetime as dt\n",
        "from pandas_datareader import data\n",
        "from statsmodels.tsa.stattools import adfuller as ADF\n",
        "import itertools\n",
        "from statsmodels.tsa.stattools import adfuller as ADF\n",
        "from statsmodels.stats.diagnostic import acorr_ljungbox\n",
        "from statsmodels.tsa.arima_model import ARIMA"
      ],
      "execution_count": 59,
      "outputs": []
    },
    {
      "cell_type": "code",
      "metadata": {
        "colab": {
          "base_uri": "https://localhost:8080/",
          "height": 235
        },
        "id": "Yd5QLdIOHebZ",
        "outputId": "599b4a0a-c01c-42f9-922b-66da2a676b72"
      },
      "source": [
        "#读取数据\n",
        "df = data.DataReader('BTC-USD','yahoo', dt.datetime(2014,9,16), dt.datetime.now())\n",
        "df.tail()"
      ],
      "execution_count": 60,
      "outputs": [
        {
          "output_type": "execute_result",
          "data": {
            "text/html": [
              "<div>\n",
              "<style scoped>\n",
              "    .dataframe tbody tr th:only-of-type {\n",
              "        vertical-align: middle;\n",
              "    }\n",
              "\n",
              "    .dataframe tbody tr th {\n",
              "        vertical-align: top;\n",
              "    }\n",
              "\n",
              "    .dataframe thead th {\n",
              "        text-align: right;\n",
              "    }\n",
              "</style>\n",
              "<table border=\"1\" class=\"dataframe\">\n",
              "  <thead>\n",
              "    <tr style=\"text-align: right;\">\n",
              "      <th></th>\n",
              "      <th>High</th>\n",
              "      <th>Low</th>\n",
              "      <th>Open</th>\n",
              "      <th>Close</th>\n",
              "      <th>Volume</th>\n",
              "      <th>Adj Close</th>\n",
              "    </tr>\n",
              "    <tr>\n",
              "      <th>Date</th>\n",
              "      <th></th>\n",
              "      <th></th>\n",
              "      <th></th>\n",
              "      <th></th>\n",
              "      <th></th>\n",
              "      <th></th>\n",
              "    </tr>\n",
              "  </thead>\n",
              "  <tbody>\n",
              "    <tr>\n",
              "      <th>2021-04-26</th>\n",
              "      <td>55416.964844</td>\n",
              "      <td>53319.187500</td>\n",
              "      <td>54030.304688</td>\n",
              "      <td>55033.117188</td>\n",
              "      <td>4.944822e+10</td>\n",
              "      <td>55033.117188</td>\n",
              "    </tr>\n",
              "    <tr>\n",
              "      <th>2021-04-27</th>\n",
              "      <td>56227.207031</td>\n",
              "      <td>53887.917969</td>\n",
              "      <td>55036.636719</td>\n",
              "      <td>54824.703125</td>\n",
              "      <td>4.800057e+10</td>\n",
              "      <td>54824.703125</td>\n",
              "    </tr>\n",
              "    <tr>\n",
              "      <th>2021-04-28</th>\n",
              "      <td>55115.843750</td>\n",
              "      <td>52418.027344</td>\n",
              "      <td>54858.089844</td>\n",
              "      <td>53555.109375</td>\n",
              "      <td>4.608893e+10</td>\n",
              "      <td>53555.109375</td>\n",
              "    </tr>\n",
              "    <tr>\n",
              "      <th>2021-04-29</th>\n",
              "      <td>57900.718750</td>\n",
              "      <td>53129.601562</td>\n",
              "      <td>53568.664062</td>\n",
              "      <td>57750.175781</td>\n",
              "      <td>5.239593e+10</td>\n",
              "      <td>57750.175781</td>\n",
              "    </tr>\n",
              "    <tr>\n",
              "      <th>2021-05-01</th>\n",
              "      <td>58413.132812</td>\n",
              "      <td>57272.031250</td>\n",
              "      <td>57728.312500</td>\n",
              "      <td>57653.089844</td>\n",
              "      <td>5.135718e+10</td>\n",
              "      <td>57653.089844</td>\n",
              "    </tr>\n",
              "  </tbody>\n",
              "</table>\n",
              "</div>"
            ],
            "text/plain": [
              "                    High           Low  ...        Volume     Adj Close\n",
              "Date                                    ...                            \n",
              "2021-04-26  55416.964844  53319.187500  ...  4.944822e+10  55033.117188\n",
              "2021-04-27  56227.207031  53887.917969  ...  4.800057e+10  54824.703125\n",
              "2021-04-28  55115.843750  52418.027344  ...  4.608893e+10  53555.109375\n",
              "2021-04-29  57900.718750  53129.601562  ...  5.239593e+10  57750.175781\n",
              "2021-05-01  58413.132812  57272.031250  ...  5.135718e+10  57653.089844\n",
              "\n",
              "[5 rows x 6 columns]"
            ]
          },
          "metadata": {
            "tags": []
          },
          "execution_count": 60
        }
      ]
    },
    {
      "cell_type": "code",
      "metadata": {
        "colab": {
          "base_uri": "https://localhost:8080/",
          "height": 450
        },
        "id": "6BrE83hEHyi8",
        "outputId": "9d393060-3cdd-4193-8fcb-323d0e1fb276"
      },
      "source": [
        "# 将时间作为索引\n",
        "df = df.reset_index()\n",
        "df['Timestamp'] = pd.to_datetime(df['Date'],format='%D') \n",
        "df.index = df.Timestamp\n",
        "df"
      ],
      "execution_count": 61,
      "outputs": [
        {
          "output_type": "execute_result",
          "data": {
            "text/html": [
              "<div>\n",
              "<style scoped>\n",
              "    .dataframe tbody tr th:only-of-type {\n",
              "        vertical-align: middle;\n",
              "    }\n",
              "\n",
              "    .dataframe tbody tr th {\n",
              "        vertical-align: top;\n",
              "    }\n",
              "\n",
              "    .dataframe thead th {\n",
              "        text-align: right;\n",
              "    }\n",
              "</style>\n",
              "<table border=\"1\" class=\"dataframe\">\n",
              "  <thead>\n",
              "    <tr style=\"text-align: right;\">\n",
              "      <th></th>\n",
              "      <th>Date</th>\n",
              "      <th>High</th>\n",
              "      <th>Low</th>\n",
              "      <th>Open</th>\n",
              "      <th>Close</th>\n",
              "      <th>Volume</th>\n",
              "      <th>Adj Close</th>\n",
              "      <th>Timestamp</th>\n",
              "    </tr>\n",
              "    <tr>\n",
              "      <th>Timestamp</th>\n",
              "      <th></th>\n",
              "      <th></th>\n",
              "      <th></th>\n",
              "      <th></th>\n",
              "      <th></th>\n",
              "      <th></th>\n",
              "      <th></th>\n",
              "      <th></th>\n",
              "    </tr>\n",
              "  </thead>\n",
              "  <tbody>\n",
              "    <tr>\n",
              "      <th>2014-09-16</th>\n",
              "      <td>2014-09-16</td>\n",
              "      <td>468.174011</td>\n",
              "      <td>452.421997</td>\n",
              "      <td>465.864014</td>\n",
              "      <td>457.334015</td>\n",
              "      <td>2.105680e+07</td>\n",
              "      <td>457.334015</td>\n",
              "      <td>2014-09-16</td>\n",
              "    </tr>\n",
              "    <tr>\n",
              "      <th>2014-09-17</th>\n",
              "      <td>2014-09-17</td>\n",
              "      <td>456.859985</td>\n",
              "      <td>413.104004</td>\n",
              "      <td>456.859985</td>\n",
              "      <td>424.440002</td>\n",
              "      <td>3.448320e+07</td>\n",
              "      <td>424.440002</td>\n",
              "      <td>2014-09-17</td>\n",
              "    </tr>\n",
              "    <tr>\n",
              "      <th>2014-09-18</th>\n",
              "      <td>2014-09-18</td>\n",
              "      <td>427.834991</td>\n",
              "      <td>384.532013</td>\n",
              "      <td>424.102997</td>\n",
              "      <td>394.795990</td>\n",
              "      <td>3.791970e+07</td>\n",
              "      <td>394.795990</td>\n",
              "      <td>2014-09-18</td>\n",
              "    </tr>\n",
              "    <tr>\n",
              "      <th>2014-09-19</th>\n",
              "      <td>2014-09-19</td>\n",
              "      <td>423.295990</td>\n",
              "      <td>389.882996</td>\n",
              "      <td>394.673004</td>\n",
              "      <td>408.903992</td>\n",
              "      <td>3.686360e+07</td>\n",
              "      <td>408.903992</td>\n",
              "      <td>2014-09-19</td>\n",
              "    </tr>\n",
              "    <tr>\n",
              "      <th>2014-09-20</th>\n",
              "      <td>2014-09-20</td>\n",
              "      <td>412.425995</td>\n",
              "      <td>393.181000</td>\n",
              "      <td>408.084991</td>\n",
              "      <td>398.821014</td>\n",
              "      <td>2.658010e+07</td>\n",
              "      <td>398.821014</td>\n",
              "      <td>2014-09-20</td>\n",
              "    </tr>\n",
              "    <tr>\n",
              "      <th>...</th>\n",
              "      <td>...</td>\n",
              "      <td>...</td>\n",
              "      <td>...</td>\n",
              "      <td>...</td>\n",
              "      <td>...</td>\n",
              "      <td>...</td>\n",
              "      <td>...</td>\n",
              "      <td>...</td>\n",
              "    </tr>\n",
              "    <tr>\n",
              "      <th>2021-04-26</th>\n",
              "      <td>2021-04-26</td>\n",
              "      <td>55416.964844</td>\n",
              "      <td>53319.187500</td>\n",
              "      <td>54030.304688</td>\n",
              "      <td>55033.117188</td>\n",
              "      <td>4.944822e+10</td>\n",
              "      <td>55033.117188</td>\n",
              "      <td>2021-04-26</td>\n",
              "    </tr>\n",
              "    <tr>\n",
              "      <th>2021-04-27</th>\n",
              "      <td>2021-04-27</td>\n",
              "      <td>56227.207031</td>\n",
              "      <td>53887.917969</td>\n",
              "      <td>55036.636719</td>\n",
              "      <td>54824.703125</td>\n",
              "      <td>4.800057e+10</td>\n",
              "      <td>54824.703125</td>\n",
              "      <td>2021-04-27</td>\n",
              "    </tr>\n",
              "    <tr>\n",
              "      <th>2021-04-28</th>\n",
              "      <td>2021-04-28</td>\n",
              "      <td>55115.843750</td>\n",
              "      <td>52418.027344</td>\n",
              "      <td>54858.089844</td>\n",
              "      <td>53555.109375</td>\n",
              "      <td>4.608893e+10</td>\n",
              "      <td>53555.109375</td>\n",
              "      <td>2021-04-28</td>\n",
              "    </tr>\n",
              "    <tr>\n",
              "      <th>2021-04-29</th>\n",
              "      <td>2021-04-29</td>\n",
              "      <td>57900.718750</td>\n",
              "      <td>53129.601562</td>\n",
              "      <td>53568.664062</td>\n",
              "      <td>57750.175781</td>\n",
              "      <td>5.239593e+10</td>\n",
              "      <td>57750.175781</td>\n",
              "      <td>2021-04-29</td>\n",
              "    </tr>\n",
              "    <tr>\n",
              "      <th>2021-05-01</th>\n",
              "      <td>2021-05-01</td>\n",
              "      <td>58413.132812</td>\n",
              "      <td>57272.031250</td>\n",
              "      <td>57728.312500</td>\n",
              "      <td>57653.089844</td>\n",
              "      <td>5.135718e+10</td>\n",
              "      <td>57653.089844</td>\n",
              "      <td>2021-05-01</td>\n",
              "    </tr>\n",
              "  </tbody>\n",
              "</table>\n",
              "<p>2415 rows × 8 columns</p>\n",
              "</div>"
            ],
            "text/plain": [
              "                 Date          High  ...     Adj Close  Timestamp\n",
              "Timestamp                            ...                         \n",
              "2014-09-16 2014-09-16    468.174011  ...    457.334015 2014-09-16\n",
              "2014-09-17 2014-09-17    456.859985  ...    424.440002 2014-09-17\n",
              "2014-09-18 2014-09-18    427.834991  ...    394.795990 2014-09-18\n",
              "2014-09-19 2014-09-19    423.295990  ...    408.903992 2014-09-19\n",
              "2014-09-20 2014-09-20    412.425995  ...    398.821014 2014-09-20\n",
              "...               ...           ...  ...           ...        ...\n",
              "2021-04-26 2021-04-26  55416.964844  ...  55033.117188 2021-04-26\n",
              "2021-04-27 2021-04-27  56227.207031  ...  54824.703125 2021-04-27\n",
              "2021-04-28 2021-04-28  55115.843750  ...  53555.109375 2021-04-28\n",
              "2021-04-29 2021-04-29  57900.718750  ...  57750.175781 2021-04-29\n",
              "2021-05-01 2021-05-01  58413.132812  ...  57653.089844 2021-05-01\n",
              "\n",
              "[2415 rows x 8 columns]"
            ]
          },
          "metadata": {
            "tags": []
          },
          "execution_count": 61
        }
      ]
    },
    {
      "cell_type": "code",
      "metadata": {
        "colab": {
          "base_uri": "https://localhost:8080/",
          "height": 450
        },
        "id": "hL3sy4nnmddZ",
        "outputId": "1354cc63-3714-468f-f09f-12d4de191fab"
      },
      "source": [
        "df_bit=df[[\"Date\",\"Close\"]]\n",
        "df_bit"
      ],
      "execution_count": 62,
      "outputs": [
        {
          "output_type": "execute_result",
          "data": {
            "text/html": [
              "<div>\n",
              "<style scoped>\n",
              "    .dataframe tbody tr th:only-of-type {\n",
              "        vertical-align: middle;\n",
              "    }\n",
              "\n",
              "    .dataframe tbody tr th {\n",
              "        vertical-align: top;\n",
              "    }\n",
              "\n",
              "    .dataframe thead th {\n",
              "        text-align: right;\n",
              "    }\n",
              "</style>\n",
              "<table border=\"1\" class=\"dataframe\">\n",
              "  <thead>\n",
              "    <tr style=\"text-align: right;\">\n",
              "      <th></th>\n",
              "      <th>Date</th>\n",
              "      <th>Close</th>\n",
              "    </tr>\n",
              "    <tr>\n",
              "      <th>Timestamp</th>\n",
              "      <th></th>\n",
              "      <th></th>\n",
              "    </tr>\n",
              "  </thead>\n",
              "  <tbody>\n",
              "    <tr>\n",
              "      <th>2014-09-16</th>\n",
              "      <td>2014-09-16</td>\n",
              "      <td>457.334015</td>\n",
              "    </tr>\n",
              "    <tr>\n",
              "      <th>2014-09-17</th>\n",
              "      <td>2014-09-17</td>\n",
              "      <td>424.440002</td>\n",
              "    </tr>\n",
              "    <tr>\n",
              "      <th>2014-09-18</th>\n",
              "      <td>2014-09-18</td>\n",
              "      <td>394.795990</td>\n",
              "    </tr>\n",
              "    <tr>\n",
              "      <th>2014-09-19</th>\n",
              "      <td>2014-09-19</td>\n",
              "      <td>408.903992</td>\n",
              "    </tr>\n",
              "    <tr>\n",
              "      <th>2014-09-20</th>\n",
              "      <td>2014-09-20</td>\n",
              "      <td>398.821014</td>\n",
              "    </tr>\n",
              "    <tr>\n",
              "      <th>...</th>\n",
              "      <td>...</td>\n",
              "      <td>...</td>\n",
              "    </tr>\n",
              "    <tr>\n",
              "      <th>2021-04-26</th>\n",
              "      <td>2021-04-26</td>\n",
              "      <td>55033.117188</td>\n",
              "    </tr>\n",
              "    <tr>\n",
              "      <th>2021-04-27</th>\n",
              "      <td>2021-04-27</td>\n",
              "      <td>54824.703125</td>\n",
              "    </tr>\n",
              "    <tr>\n",
              "      <th>2021-04-28</th>\n",
              "      <td>2021-04-28</td>\n",
              "      <td>53555.109375</td>\n",
              "    </tr>\n",
              "    <tr>\n",
              "      <th>2021-04-29</th>\n",
              "      <td>2021-04-29</td>\n",
              "      <td>57750.175781</td>\n",
              "    </tr>\n",
              "    <tr>\n",
              "      <th>2021-05-01</th>\n",
              "      <td>2021-05-01</td>\n",
              "      <td>57653.089844</td>\n",
              "    </tr>\n",
              "  </tbody>\n",
              "</table>\n",
              "<p>2415 rows × 2 columns</p>\n",
              "</div>"
            ],
            "text/plain": [
              "                 Date         Close\n",
              "Timestamp                          \n",
              "2014-09-16 2014-09-16    457.334015\n",
              "2014-09-17 2014-09-17    424.440002\n",
              "2014-09-18 2014-09-18    394.795990\n",
              "2014-09-19 2014-09-19    408.903992\n",
              "2014-09-20 2014-09-20    398.821014\n",
              "...               ...           ...\n",
              "2021-04-26 2021-04-26  55033.117188\n",
              "2021-04-27 2021-04-27  54824.703125\n",
              "2021-04-28 2021-04-28  53555.109375\n",
              "2021-04-29 2021-04-29  57750.175781\n",
              "2021-05-01 2021-05-01  57653.089844\n",
              "\n",
              "[2415 rows x 2 columns]"
            ]
          },
          "metadata": {
            "tags": []
          },
          "execution_count": 62
        }
      ]
    },
    {
      "cell_type": "code",
      "metadata": {
        "id": "KC_YcEP9KLVv"
      },
      "source": [
        "# 按月，季度，年重采样\n",
        "df_month = df_bit.resample('M').mean()\n",
        "df_Q = df_bit.resample('Q-DEC').mean()\n",
        "df_year = df_bit.resample('A-DEC').mean()"
      ],
      "execution_count": 63,
      "outputs": []
    },
    {
      "cell_type": "code",
      "metadata": {
        "colab": {
          "base_uri": "https://localhost:8080/",
          "height": 479
        },
        "id": "QVqfrHmxKsu9",
        "outputId": "3d097d71-4e7f-4470-cef5-f3830a62f909"
      },
      "source": [
        "# 数据可视化\n",
        "fig = plt.figure(figsize=[15, 7])\n",
        "plt.suptitle('bitcoin(price in dollar)', fontsize=20)\n",
        "plt.subplot(221)\n",
        "plt.plot(df.Close, '-', label='día')\n",
        "plt.legend()\n",
        "plt.subplot(222)\n",
        "plt.plot(df_month.Close, '-', label='mes')\n",
        "plt.legend()\n",
        "plt.subplot(223)\n",
        "plt.plot(df_Q.Close, '-', label='trimestre')\n",
        "plt.legend()\n",
        "plt.subplot(224)\n",
        "plt.plot(df_year.Close, '-', label='año')\n",
        "plt.legend()\n",
        "plt.show()"
      ],
      "execution_count": 64,
      "outputs": [
        {
          "output_type": "display_data",
          "data": {
            "image/png": "[encoded data removed]",
            "text/plain": [
              "<Figure size 1080x504 with 4 Axes>"
            ]
          },
          "metadata": {
            "tags": [],
            "needs_background": "light"
          }
        }
      ]
    },
    {
      "cell_type": "code",
      "metadata": {
        "colab": {
          "base_uri": "https://localhost:8080/"
        },
        "id": "HbIrzLXPVODq",
        "outputId": "5ef34b6f-f947-4c1d-9991-087533d507b2"
      },
      "source": [
        "# Augmented Dick-Fuller test\n",
        "# 如果序列平稳，就不存在单位根；否则，就会存在单位根。\n",
        "# 看到 t-statistic 的值 0.112 要大于10%，所以无法拒绝原假设，另外，p-value的值也很大。\n",
        "# 所以说不平稳，要进行差分\n",
        "# 由于P值远大于0.05所以接受原假设，认为时间序列是白噪声的，即是随机产生的序列，不具有时间上的相关性。\n",
        "# 但是，常见的时间序列一般都是非平稳的。必须通过差分后转化为平稳序列，才可以使用ARMA模型。\n",
        "\n",
        "print('原始序列ADF检验结果', ADF(df_month['Close']))"
      ],
      "execution_count": 65,
      "outputs": [
        {
          "output_type": "stream",
          "text": [
            "原始序列ADF检验结果 (-0.28713708174548547, 0.9273064527803343, 1, 79, {'1%': -3.5159766913976376, '5%': -2.898885703483903, '10%': -2.5866935058484217}, 1235.3374076160503)\n"
          ],
          "name": "stdout"
        }
      ]
    },
    {
      "cell_type": "code",
      "metadata": {
        "colab": {
          "base_uri": "https://localhost:8080/"
        },
        "id": "ofja_BOkWJ7w",
        "outputId": "cdc4f7c3-bd8c-472a-ac44-1ff767662ba9"
      },
      "source": [
        "# 差分法(不平稳处理),保存成新的列,1阶差分,dropna() 删除缺失值。实现平稳性。\n",
        "# 计算相邻观测值之间的差值\n",
        "\n",
        "diff = 0\n",
        "adf = ADF(df_month['Close'])\n",
        "while adf[1] >= 0.05:\n",
        "    diff = diff + 1\n",
        "    adf = ADF(df_month['Close'].diff(diff).dropna())\n",
        "print('差分d次数为{}，p值为{}'.format(diff, adf[1]))\n",
        "# 接下来看看1阶差分后该序列是否为白噪声"
      ],
      "execution_count": 66,
      "outputs": [
        {
          "output_type": "stream",
          "text": [
            "差分d次数为1，p值为0.0020622769019203514\n"
          ],
          "name": "stdout"
        }
      ]
    },
    {
      "cell_type": "code",
      "metadata": {
        "colab": {
          "base_uri": "https://localhost:8080/"
        },
        "id": "Ac3_KRGBWaMm",
        "outputId": "917cbc8d-f309-431b-a1e9-1bd3c55fe05b"
      },
      "source": [
        "print('白噪声检验结果', acorr_ljungbox(df_month['Close'].diff().dropna(), lags=1))\n",
        "\n",
        "# 差分，将不平稳数据先变得平稳，再用ARMA模型"
      ],
      "execution_count": 67,
      "outputs": [
        {
          "output_type": "stream",
          "text": [
            "白噪声检验结果 (array([37.39761909]), array([9.63396648e-10]))\n"
          ],
          "name": "stdout"
        }
      ]
    },
    {
      "cell_type": "code",
      "metadata": {
        "id": "hMuLP1O2LRzb"
      },
      "source": [
        "#choose best p,q\n",
        "ps = range(0, 3)\n",
        "qs = range(0, 3)\n",
        "parameters = product(ps, qs)\n",
        "parameters_list = list(parameters)"
      ],
      "execution_count": 68,
      "outputs": []
    },
    {
      "cell_type": "code",
      "metadata": {
        "colab": {
          "base_uri": "https://localhost:8080/"
        },
        "id": "VTuwr8XLLTDE",
        "outputId": "1a9de725-4a49-4b12-e292-36d6bb93091b"
      },
      "source": [
        "results = []\n",
        "best_aic = float(\"inf\") # 正无穷\n",
        "for param in parameters_list:\n",
        "    try:\n",
        "        model = ARMA(df_month.Close,order=(param[0], param[1])).fit()\n",
        "    except ValueError:\n",
        "        print('parameter_error:', param)\n",
        "        continue\n",
        "    aic = model.aic\n",
        "    if aic < best_aic:\n",
        "        best_model = model\n",
        "        best_aic = aic\n",
        "        best_param = param\n",
        "    results.append([param, model.aic])"
      ],
      "execution_count": 69,
      "outputs": [
        {
          "output_type": "stream",
          "text": [
            "parameter_error: (0, 2)\n",
            "parameter_error: (1, 1)\n",
            "parameter_error: (1, 2)\n"
          ],
          "name": "stdout"
        }
      ]
    },
    {
      "cell_type": "code",
      "metadata": {
        "colab": {
          "base_uri": "https://localhost:8080/"
        },
        "id": "SL1xY9IBLfJO",
        "outputId": "c3a562ce-3206-4408-a9f0-94fd4770ab94"
      },
      "source": [
        "#输出最优模型\n",
        "print('best_p_q', best_param)\n",
        "result_table = pd.DataFrame(results)\n",
        "result_table.columns = ['parameters', 'aic']\n",
        "print('optimized_model: ', best_model.summary())"
      ],
      "execution_count": 70,
      "outputs": [
        {
          "output_type": "stream",
          "text": [
            "best_p_q (2, 0)\n",
            "optimized_model:                                ARMA Model Results                              \n",
            "==============================================================================\n",
            "Dep. Variable:                  Close   No. Observations:                   81\n",
            "Model:                     ARMA(2, 0)   Log Likelihood                -728.316\n",
            "Method:                       css-mle   S.D. of innovations           1882.777\n",
            "Date:                Sat, 01 May 2021   AIC                           1464.631\n",
            "Time:                        11:19:02   BIC                           1474.209\n",
            "Sample:                    09-30-2014   HQIC                          1468.474\n",
            "                         - 05-31-2021                                         \n",
            "===============================================================================\n",
            "                  coef    std err          z      P>|z|      [0.025      0.975]\n",
            "-------------------------------------------------------------------------------\n",
            "const        1.312e+04   1.01e+04      1.302      0.197   -6630.519    3.29e+04\n",
            "ar.L1.Close     1.7039      0.082     20.748      0.000       1.543       1.865\n",
            "ar.L2.Close    -0.7252      0.091     -8.013      0.000      -0.903      -0.548\n",
            "                                    Roots                                    \n",
            "=============================================================================\n",
            "                  Real          Imaginary           Modulus         Frequency\n",
            "-----------------------------------------------------------------------------\n",
            "AR.1            1.1394           +0.0000j            1.1394            0.0000\n",
            "AR.2            1.2103           +0.0000j            1.2103            0.0000\n",
            "-----------------------------------------------------------------------------\n"
          ],
          "name": "stdout"
        }
      ]
    },
    {
      "cell_type": "code",
      "metadata": {
        "id": "1ut0OPM_Lplx"
      },
      "source": [
        "# Prediction of bitcoin\n",
        "df_month2 = df_month[['Close']]\n",
        "#date_list = [datetime(2021, 4, 30)]\n",
        "#future = pd.DataFrame(columns= df_month.columns)\n",
        "df_month2 = pd.concat([df_month2])\n",
        "df_month2['forecast'] = best_model.predict(start=0, end=91)\n"
      ],
      "execution_count": 72,
      "outputs": []
    },
    {
      "cell_type": "code",
      "metadata": {
        "colab": {
          "base_uri": "https://localhost:8080/",
          "height": 295
        },
        "id": "r7De7vGRLvyl",
        "outputId": "718f89ad-7f54-4161-a6ed-da38c7d9d3dd"
      },
      "source": [
        "\n",
        "df_month2.Close.plot(label='real price')\n",
        "df_month2.forecast.plot(color='r', ls='--', label='predict price')\n",
        "plt.legend()\n",
        "plt.title('bitcoin price (month)')\n",
        "plt.xlabel('time')\n",
        "plt.ylabel('dollar')\n",
        "plt.show()"
      ],
      "execution_count": 73,
      "outputs": [
        {
          "output_type": "display_data",
          "data": {
            "image/png": "[encoded data removed]",
            "text/plain": [
              "<Figure size 432x288 with 1 Axes>"
            ]
          },
          "metadata": {
            "tags": [],
            "needs_background": "light"
          }
        }
      ]
    },
    {
      "cell_type": "code",
      "metadata": {
        "colab": {
          "base_uri": "https://localhost:8080/",
          "height": 450
        },
        "id": "Ljln9iSJm87L",
        "outputId": "8cc4bbd8-d0e1-4962-c8fa-41d59c5cf7e7"
      },
      "source": [
        "df_month2"
      ],
      "execution_count": 74,
      "outputs": [
        {
          "output_type": "execute_result",
          "data": {
            "text/html": [
              "<div>\n",
              "<style scoped>\n",
              "    .dataframe tbody tr th:only-of-type {\n",
              "        vertical-align: middle;\n",
              "    }\n",
              "\n",
              "    .dataframe tbody tr th {\n",
              "        vertical-align: top;\n",
              "    }\n",
              "\n",
              "    .dataframe thead th {\n",
              "        text-align: right;\n",
              "    }\n",
              "</style>\n",
              "<table border=\"1\" class=\"dataframe\">\n",
              "  <thead>\n",
              "    <tr style=\"text-align: right;\">\n",
              "      <th></th>\n",
              "      <th>Close</th>\n",
              "      <th>forecast</th>\n",
              "    </tr>\n",
              "    <tr>\n",
              "      <th>Timestamp</th>\n",
              "      <th></th>\n",
              "      <th></th>\n",
              "    </tr>\n",
              "  </thead>\n",
              "  <tbody>\n",
              "    <tr>\n",
              "      <th>2014-09-30</th>\n",
              "      <td>405.611265</td>\n",
              "      <td>13119.839013</td>\n",
              "    </tr>\n",
              "    <tr>\n",
              "      <th>2014-10-31</th>\n",
              "      <td>363.500002</td>\n",
              "      <td>562.269248</td>\n",
              "    </tr>\n",
              "    <tr>\n",
              "      <th>2014-11-30</th>\n",
              "      <td>366.099799</td>\n",
              "      <td>604.117734</td>\n",
              "    </tr>\n",
              "    <tr>\n",
              "      <th>2014-12-31</th>\n",
              "      <td>341.267871</td>\n",
              "      <td>639.084905</td>\n",
              "    </tr>\n",
              "    <tr>\n",
              "      <th>2015-01-31</th>\n",
              "      <td>248.782547</td>\n",
              "      <td>594.888449</td>\n",
              "    </tr>\n",
              "    <tr>\n",
              "      <th>...</th>\n",
              "      <td>...</td>\n",
              "      <td>...</td>\n",
              "    </tr>\n",
              "    <tr>\n",
              "      <th>2021-01-31</th>\n",
              "      <td>34703.053427</td>\n",
              "      <td>25665.184558</td>\n",
              "    </tr>\n",
              "    <tr>\n",
              "      <th>2021-02-28</th>\n",
              "      <td>46306.798968</td>\n",
              "      <td>43468.234614</td>\n",
              "    </tr>\n",
              "    <tr>\n",
              "      <th>2021-03-31</th>\n",
              "      <td>55126.064941</td>\n",
              "      <td>54015.923600</td>\n",
              "    </tr>\n",
              "    <tr>\n",
              "      <th>2021-04-30</th>\n",
              "      <td>57141.579068</td>\n",
              "      <td>60628.531796</td>\n",
              "    </tr>\n",
              "    <tr>\n",
              "      <th>2021-05-31</th>\n",
              "      <td>57653.089844</td>\n",
              "      <td>57667.399686</td>\n",
              "    </tr>\n",
              "  </tbody>\n",
              "</table>\n",
              "<p>81 rows × 2 columns</p>\n",
              "</div>"
            ],
            "text/plain": [
              "                   Close      forecast\n",
              "Timestamp                             \n",
              "2014-09-30    405.611265  13119.839013\n",
              "2014-10-31    363.500002    562.269248\n",
              "2014-11-30    366.099799    604.117734\n",
              "2014-12-31    341.267871    639.084905\n",
              "2015-01-31    248.782547    594.888449\n",
              "...                  ...           ...\n",
              "2021-01-31  34703.053427  25665.184558\n",
              "2021-02-28  46306.798968  43468.234614\n",
              "2021-03-31  55126.064941  54015.923600\n",
              "2021-04-30  57141.579068  60628.531796\n",
              "2021-05-31  57653.089844  57667.399686\n",
              "\n",
              "[81 rows x 2 columns]"
            ]
          },
          "metadata": {
            "tags": []
          },
          "execution_count": 74
        }
      ]
    },
    {
      "cell_type": "code",
      "metadata": {
        "id": "LA5LoBZfl4_i"
      },
      "source": [
        "from statsmodels.tsa.statespace.sarimax import SARIMAX\n",
        "from statsmodels.graphics.tsaplots import plot_acf,plot_pacf \n",
        "from statsmodels.tsa.seasonal import seasonal_decompose \n",
        "from sklearn.metrics import mean_squared_error\n",
        "from statsmodels.tools.eval_measures import rmse\n",
        "import warnings\n",
        "warnings.filterwarnings(\"ignore\")\n",
        "from sklearn.metrics import mean_squared_error, r2_score"
      ],
      "execution_count": 75,
      "outputs": []
    },
    {
      "cell_type": "code",
      "metadata": {
        "colab": {
          "base_uri": "https://localhost:8080/"
        },
        "id": "7Xr3NkOepFiH",
        "outputId": "e3973629-58af-4e8e-f6f4-55e29dfab97e"
      },
      "source": [
        "error = r2_score(df_month2['forecast'], df_month['Close'])\n",
        "error"
      ],
      "execution_count": 80,
      "outputs": [
        {
          "output_type": "execute_result",
          "data": {
            "text/plain": [
              "0.9603120280160383"
            ]
          },
          "metadata": {
            "tags": []
          },
          "execution_count": 80
        }
      ]
    }
  ]
}