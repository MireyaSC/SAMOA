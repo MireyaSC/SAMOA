{
  "nbformat": 4,
  "nbformat_minor": 0,
  "metadata": {
    "colab": {
      "name": "tw-sent-analysis-(v1).ipynb",
      "provenance": []
    },
    "kernelspec": {
      "name": "python3",
      "display_name": "Python 3"
    },
    "language_info": {
      "name": "python"
    }
  },
  "cells": [
    {
      "cell_type": "code",
      "metadata": {
        "id": "buCI-0YhWHoW"
      },
      "source": [
        "#Twitter sentyment analysis\n"
      ],
      "execution_count": null,
      "outputs": []
    },
    {
      "cell_type": "code",
      "metadata": {
        "id": "Nw7jX0WPWMBl",
        "colab": {
          "base_uri": "https://localhost:8080/"
        },
        "outputId": "22772f87-f4f6-4f8a-8473-0d723837d3ce"
      },
      "source": [
        "pip install tweepy"
      ],
      "execution_count": 1,
      "outputs": [
        {
          "output_type": "stream",
          "text": [
            "Requirement already satisfied: tweepy in /usr/local/lib/python3.7/dist-packages (3.10.0)\n",
            "Requirement already satisfied: requests-oauthlib>=0.7.0 in /usr/local/lib/python3.7/dist-packages (from tweepy) (1.3.0)\n",
            "Requirement already satisfied: requests[socks]>=2.11.1 in /usr/local/lib/python3.7/dist-packages (from tweepy) (2.23.0)\n",
            "Requirement already satisfied: six>=1.10.0 in /usr/local/lib/python3.7/dist-packages (from tweepy) (1.15.0)\n",
            "Requirement already satisfied: oauthlib>=3.0.0 in /usr/local/lib/python3.7/dist-packages (from requests-oauthlib>=0.7.0->tweepy) (3.1.0)\n",
            "Requirement already satisfied: certifi>=2017.4.17 in /usr/local/lib/python3.7/dist-packages (from requests[socks]>=2.11.1->tweepy) (2020.12.5)\n",
            "Requirement already satisfied: chardet<4,>=3.0.2 in /usr/local/lib/python3.7/dist-packages (from requests[socks]>=2.11.1->tweepy) (3.0.4)\n",
            "Requirement already satisfied: idna<3,>=2.5 in /usr/local/lib/python3.7/dist-packages (from requests[socks]>=2.11.1->tweepy) (2.10)\n",
            "Requirement already satisfied: urllib3!=1.25.0,!=1.25.1,<1.26,>=1.21.1 in /usr/local/lib/python3.7/dist-packages (from requests[socks]>=2.11.1->tweepy) (1.24.3)\n",
            "Requirement already satisfied: PySocks!=1.5.7,>=1.5.6; extra == \"socks\" in /usr/local/lib/python3.7/dist-packages (from requests[socks]>=2.11.1->tweepy) (1.7.1)\n"
          ],
          "name": "stdout"
        }
      ]
    },
    {
      "cell_type": "code",
      "metadata": {
        "id": "c4Lsx2rd4YGB"
      },
      "source": [
        "import tweepy\n",
        "from textblob import TextBlob\n",
        "import pandas as pd\n",
        "import numpy as np\n",
        "import re\n",
        "import matplotlib.pyplot as plt\n",
        "plt.style.use(\"fivethirtyeight\")"
      ],
      "execution_count": 2,
      "outputs": []
    },
    {
      "cell_type": "code",
      "metadata": {
        "id": "FuaACvuBWORH",
        "colab": {
          "base_uri": "https://localhost:8080/"
        },
        "outputId": "90ca1666-3ff2-4cb0-99fb-2fd928c7bf5b"
      },
      "source": [
        "\n",
        "# Authenticate to Twitter\n",
        "consumer_key = \"A6kKlMRkA4h7rX2h5ID6mzoDk\"\n",
        "consumer_secret = \"NMVddzFAdHQ7EVFIrONomiK3y8uvhPfCCvEPwQ1r8zwaP2RPtl\"\n",
        "access_token = \"1345775473306046466-Ip1GfAU3eJUvP0brUZ73SvVkdmEbIo\"\n",
        "access_token_secret = \"P9bTSg1PpxvfUV6vLrbgBWQQwp6r5ou6U1DwjnWiOHXDG\"\n",
        "\n",
        "\n",
        "\n",
        "auth = tweepy.OAuthHandler(consumer_key,consumer_secret)\n",
        "auth.set_access_token(access_token,access_token_secret)\n",
        "\n",
        "\n",
        "api = tweepy.API(auth)\n",
        "\n",
        "try:\n",
        "    api.verify_credentials()\n",
        "    print(\"Authentication OK\")\n",
        "except:\n",
        "    print(\"Error during authentication\")"
      ],
      "execution_count": 3,
      "outputs": [
        {
          "output_type": "stream",
          "text": [
            "Authentication OK\n"
          ],
          "name": "stdout"
        }
      ]
    },
    {
      "cell_type": "code",
      "metadata": {
        "id": "zI_fUjj35uDp"
      },
      "source": [
        "# Create API object\n",
        "api = tweepy.API(auth, wait_on_rate_limit=True,\n",
        "    wait_on_rate_limit_notify=True)"
      ],
      "execution_count": 4,
      "outputs": []
    },
    {
      "cell_type": "code",
      "metadata": {
        "id": "mJl_MpY_5viU",
        "colab": {
          "base_uri": "https://localhost:8080/"
        },
        "outputId": "f881757f-17b3-4bed-cd14-1daf2f00fd2d"
      },
      "source": [
        "#Gather 2000 tweets about bitcoin and filter out any retweets \"RT\"\n",
        "search_term= \"#bitcoin - filter:retweets\"\n",
        "\n",
        "#Create cursos object\n",
        "tweets = tweepy.Cursor(api.search, q=search_term, lang=\"en\", since=\"2020-8-2\", tweet_mode=\"extended\").items(1000)\n",
        "\n",
        "#Store the tweets in a variable and get the full text\n",
        "all_tweets= [tweet.full_text for tweet in tweets]\n",
        "\n",
        "#until=\"2018-1-20\"\n"
      ],
      "execution_count": null,
      "outputs": [
        {
          "output_type": "stream",
          "text": [
            "Rate limit reached. Sleeping for: 687\n"
          ],
          "name": "stderr"
        }
      ]
    },
    {
      "cell_type": "code",
      "metadata": {
        "id": "Jn9A4mYM6rXp",
        "colab": {
          "base_uri": "https://localhost:8080/",
          "height": 204
        },
        "outputId": "033c5d5d-322d-4eda-9d64-b50c52fc2fb1"
      },
      "source": [
        "#Create a dataframe to store the tweets with a column called \"Tweets\"\n",
        "df = pd.DataFrame(all_tweets, columns=[\"Tweets\"])\n",
        "df.head(n=5)"
      ],
      "execution_count": 34,
      "outputs": [
        {
          "output_type": "execute_result",
          "data": {
            "text/html": [
              "<div>\n",
              "<style scoped>\n",
              "    .dataframe tbody tr th:only-of-type {\n",
              "        vertical-align: middle;\n",
              "    }\n",
              "\n",
              "    .dataframe tbody tr th {\n",
              "        vertical-align: top;\n",
              "    }\n",
              "\n",
              "    .dataframe thead th {\n",
              "        text-align: right;\n",
              "    }\n",
              "</style>\n",
              "<table border=\"1\" class=\"dataframe\">\n",
              "  <thead>\n",
              "    <tr style=\"text-align: right;\">\n",
              "      <th></th>\n",
              "      <th>Tweets</th>\n",
              "    </tr>\n",
              "  </thead>\n",
              "  <tbody>\n",
              "    <tr>\n",
              "      <th>0</th>\n",
              "      <td>RT @karka_lawrence: Free trade skills?\\n\\n$250...</td>\n",
              "    </tr>\n",
              "    <tr>\n",
              "      <th>1</th>\n",
              "      <td>RT @BTC_Archive: eBay is coming to #Bitcoin \\n...</td>\n",
              "    </tr>\n",
              "    <tr>\n",
              "      <th>2</th>\n",
              "      <td>RT @BTC_Archive: #Bitcoin supply on exchanges ...</td>\n",
              "    </tr>\n",
              "    <tr>\n",
              "      <th>3</th>\n",
              "      <td>RT @CryptoMichNL: Peak high bull cycle predict...</td>\n",
              "    </tr>\n",
              "    <tr>\n",
              "      <th>4</th>\n",
              "      <td>RT @flurbnb: 🚀 $300 to someone who retweets th...</td>\n",
              "    </tr>\n",
              "  </tbody>\n",
              "</table>\n",
              "</div>"
            ],
            "text/plain": [
              "                                              Tweets\n",
              "0  RT @karka_lawrence: Free trade skills?\\n\\n$250...\n",
              "1  RT @BTC_Archive: eBay is coming to #Bitcoin \\n...\n",
              "2  RT @BTC_Archive: #Bitcoin supply on exchanges ...\n",
              "3  RT @CryptoMichNL: Peak high bull cycle predict...\n",
              "4  RT @flurbnb: 🚀 $300 to someone who retweets th..."
            ]
          },
          "metadata": {
            "tags": []
          },
          "execution_count": 34
        }
      ]
    },
    {
      "cell_type": "code",
      "metadata": {
        "id": "E3BDhjWk7Nwq"
      },
      "source": [
        "#Create a function to clean the tweets\n",
        "def cleanTwt(twt):\n",
        "  twt = re.sub(\"#bitcoin\", \"bitcoin\", twt) # removes the # from bitcoin\n",
        "  twt = re.sub(\"#Bitcoin\", \"Bitcoin\", twt) # removes the # from Bitcoin\n",
        "  twt = re.sub(\"#[A-Za-z0-9]+\",\"\", twt) # removes any strings whith a #\n",
        "  twt = re.sub(\"\\\\n\",\"\", twt) # removes the \"\\n\" string\n",
        "  twt = re.sub(\"https?:\\/\\/\\S+\", \"\", twt) # removes any hyperlinks\n",
        "  return twt"
      ],
      "execution_count": 35,
      "outputs": []
    },
    {
      "cell_type": "code",
      "metadata": {
        "id": "gokgssmw838X",
        "colab": {
          "base_uri": "https://localhost:8080/",
          "height": 359
        },
        "outputId": "1f066a92-9070-407b-d0cb-275747f26e00"
      },
      "source": [
        "#Clean the tweets\n",
        "df[\"Cleaned_Tweets\"] = df[\"Tweets\"].apply(cleanTwt)\n",
        "\n",
        "# Show the data set\n",
        "df.head(10)"
      ],
      "execution_count": 36,
      "outputs": [
        {
          "output_type": "execute_result",
          "data": {
            "text/html": [
              "<div>\n",
              "<style scoped>\n",
              "    .dataframe tbody tr th:only-of-type {\n",
              "        vertical-align: middle;\n",
              "    }\n",
              "\n",
              "    .dataframe tbody tr th {\n",
              "        vertical-align: top;\n",
              "    }\n",
              "\n",
              "    .dataframe thead th {\n",
              "        text-align: right;\n",
              "    }\n",
              "</style>\n",
              "<table border=\"1\" class=\"dataframe\">\n",
              "  <thead>\n",
              "    <tr style=\"text-align: right;\">\n",
              "      <th></th>\n",
              "      <th>Tweets</th>\n",
              "      <th>Cleaned_Tweets</th>\n",
              "    </tr>\n",
              "  </thead>\n",
              "  <tbody>\n",
              "    <tr>\n",
              "      <th>0</th>\n",
              "      <td>RT @karka_lawrence: Free trade skills?\\n\\n$250...</td>\n",
              "      <td>RT @karka_lawrence: Free trade skills?$250 bit...</td>\n",
              "    </tr>\n",
              "    <tr>\n",
              "      <th>1</th>\n",
              "      <td>RT @BTC_Archive: eBay is coming to #Bitcoin \\n...</td>\n",
              "      <td>RT @BTC_Archive: eBay is coming to Bitcoin Ama...</td>\n",
              "    </tr>\n",
              "    <tr>\n",
              "      <th>2</th>\n",
              "      <td>RT @BTC_Archive: #Bitcoin supply on exchanges ...</td>\n",
              "      <td>RT @BTC_Archive: Bitcoin supply on exchanges s...</td>\n",
              "    </tr>\n",
              "    <tr>\n",
              "      <th>3</th>\n",
              "      <td>RT @CryptoMichNL: Peak high bull cycle predict...</td>\n",
              "      <td>RT @CryptoMichNL: Peak high bull cycle predict...</td>\n",
              "    </tr>\n",
              "    <tr>\n",
              "      <th>4</th>\n",
              "      <td>RT @flurbnb: 🚀 $300 to someone who retweets th...</td>\n",
              "      <td>RT @flurbnb: 🚀 $300 to someone who retweets th...</td>\n",
              "    </tr>\n",
              "    <tr>\n",
              "      <th>5</th>\n",
              "      <td>RT @BTC_Archive: Ebay CEO looking at #Bitcoin ...</td>\n",
              "      <td>RT @BTC_Archive: Ebay CEO looking at Bitcoin a...</td>\n",
              "    </tr>\n",
              "    <tr>\n",
              "      <th>6</th>\n",
              "      <td>RT @raypaxful: 6 years ago everyone laughed wh...</td>\n",
              "      <td>RT @raypaxful: 6 years ago everyone laughed wh...</td>\n",
              "    </tr>\n",
              "    <tr>\n",
              "      <th>7</th>\n",
              "      <td>RT @coinok: Buy Crypto With Your Credit Card /...</td>\n",
              "      <td>RT @coinok: Buy Crypto With Your Credit Card /...</td>\n",
              "    </tr>\n",
              "    <tr>\n",
              "      <th>8</th>\n",
              "      <td>RT @DocumentingBTC: 62% of clients say they wo...</td>\n",
              "      <td>RT @DocumentingBTC: 62% of clients say they wo...</td>\n",
              "    </tr>\n",
              "    <tr>\n",
              "      <th>9</th>\n",
              "      <td>RT @freeskinscom: 🔽 What is https://t.co/pBlBw...</td>\n",
              "      <td>RT @freeskinscom: 🔽 What is  🔽On Freeskins you...</td>\n",
              "    </tr>\n",
              "  </tbody>\n",
              "</table>\n",
              "</div>"
            ],
            "text/plain": [
              "                                              Tweets                                     Cleaned_Tweets\n",
              "0  RT @karka_lawrence: Free trade skills?\\n\\n$250...  RT @karka_lawrence: Free trade skills?$250 bit...\n",
              "1  RT @BTC_Archive: eBay is coming to #Bitcoin \\n...  RT @BTC_Archive: eBay is coming to Bitcoin Ama...\n",
              "2  RT @BTC_Archive: #Bitcoin supply on exchanges ...  RT @BTC_Archive: Bitcoin supply on exchanges s...\n",
              "3  RT @CryptoMichNL: Peak high bull cycle predict...  RT @CryptoMichNL: Peak high bull cycle predict...\n",
              "4  RT @flurbnb: 🚀 $300 to someone who retweets th...  RT @flurbnb: 🚀 $300 to someone who retweets th...\n",
              "5  RT @BTC_Archive: Ebay CEO looking at #Bitcoin ...  RT @BTC_Archive: Ebay CEO looking at Bitcoin a...\n",
              "6  RT @raypaxful: 6 years ago everyone laughed wh...  RT @raypaxful: 6 years ago everyone laughed wh...\n",
              "7  RT @coinok: Buy Crypto With Your Credit Card /...  RT @coinok: Buy Crypto With Your Credit Card /...\n",
              "8  RT @DocumentingBTC: 62% of clients say they wo...  RT @DocumentingBTC: 62% of clients say they wo...\n",
              "9  RT @freeskinscom: 🔽 What is https://t.co/pBlBw...  RT @freeskinscom: 🔽 What is  🔽On Freeskins you..."
            ]
          },
          "metadata": {
            "tags": []
          },
          "execution_count": 36
        }
      ]
    },
    {
      "cell_type": "code",
      "metadata": {
        "id": "zkx_dJkk3H02",
        "colab": {
          "base_uri": "https://localhost:8080/",
          "height": 204
        },
        "outputId": "2b794425-31ce-4b1d-f005-0debc83505c3"
      },
      "source": [
        "#Create a function to get the subjectivity\n",
        "def getSubjectivity(twt):\n",
        "  return TextBlob(twt).sentiment.subjectivity\n",
        "\n",
        "#Create a function to get the polarity\n",
        "def getPolarity(twt):\n",
        "  return TextBlob(twt).sentiment.polarity\n",
        "\n",
        "#Create two new columns called \"subjectivity\" and \"Polarity\"\n",
        "df[\"Subjectivity\"]= df[\"Cleaned_Tweets\"].apply(getSubjectivity)\n",
        "df[\"Polarity\"] = df[\"Cleaned_Tweets\"].apply(getPolarity)\n",
        "\n",
        "#Show the data\n",
        "df.head()"
      ],
      "execution_count": 37,
      "outputs": [
        {
          "output_type": "execute_result",
          "data": {
            "text/html": [
              "<div>\n",
              "<style scoped>\n",
              "    .dataframe tbody tr th:only-of-type {\n",
              "        vertical-align: middle;\n",
              "    }\n",
              "\n",
              "    .dataframe tbody tr th {\n",
              "        vertical-align: top;\n",
              "    }\n",
              "\n",
              "    .dataframe thead th {\n",
              "        text-align: right;\n",
              "    }\n",
              "</style>\n",
              "<table border=\"1\" class=\"dataframe\">\n",
              "  <thead>\n",
              "    <tr style=\"text-align: right;\">\n",
              "      <th></th>\n",
              "      <th>Tweets</th>\n",
              "      <th>Cleaned_Tweets</th>\n",
              "      <th>Subjectivity</th>\n",
              "      <th>Polarity</th>\n",
              "    </tr>\n",
              "  </thead>\n",
              "  <tbody>\n",
              "    <tr>\n",
              "      <th>0</th>\n",
              "      <td>RT @karka_lawrence: Free trade skills?\\n\\n$250...</td>\n",
              "      <td>RT @karka_lawrence: Free trade skills?$250 bit...</td>\n",
              "      <td>0.800000</td>\n",
              "      <td>0.400000</td>\n",
              "    </tr>\n",
              "    <tr>\n",
              "      <th>1</th>\n",
              "      <td>RT @BTC_Archive: eBay is coming to #Bitcoin \\n...</td>\n",
              "      <td>RT @BTC_Archive: eBay is coming to Bitcoin Ama...</td>\n",
              "      <td>1.000000</td>\n",
              "      <td>0.000000</td>\n",
              "    </tr>\n",
              "    <tr>\n",
              "      <th>2</th>\n",
              "      <td>RT @BTC_Archive: #Bitcoin supply on exchanges ...</td>\n",
              "      <td>RT @BTC_Archive: Bitcoin supply on exchanges s...</td>\n",
              "      <td>0.177778</td>\n",
              "      <td>-0.077778</td>\n",
              "    </tr>\n",
              "    <tr>\n",
              "      <th>3</th>\n",
              "      <td>RT @CryptoMichNL: Peak high bull cycle predict...</td>\n",
              "      <td>RT @CryptoMichNL: Peak high bull cycle predict...</td>\n",
              "      <td>0.520000</td>\n",
              "      <td>0.330000</td>\n",
              "    </tr>\n",
              "    <tr>\n",
              "      <th>4</th>\n",
              "      <td>RT @flurbnb: 🚀 $300 to someone who retweets th...</td>\n",
              "      <td>RT @flurbnb: 🚀 $300 to someone who retweets th...</td>\n",
              "      <td>0.000000</td>\n",
              "      <td>0.000000</td>\n",
              "    </tr>\n",
              "  </tbody>\n",
              "</table>\n",
              "</div>"
            ],
            "text/plain": [
              "                                              Tweets  ...  Polarity\n",
              "0  RT @karka_lawrence: Free trade skills?\\n\\n$250...  ...  0.400000\n",
              "1  RT @BTC_Archive: eBay is coming to #Bitcoin \\n...  ...  0.000000\n",
              "2  RT @BTC_Archive: #Bitcoin supply on exchanges ...  ... -0.077778\n",
              "3  RT @CryptoMichNL: Peak high bull cycle predict...  ...  0.330000\n",
              "4  RT @flurbnb: 🚀 $300 to someone who retweets th...  ...  0.000000\n",
              "\n",
              "[5 rows x 4 columns]"
            ]
          },
          "metadata": {
            "tags": []
          },
          "execution_count": 37
        }
      ]
    },
    {
      "cell_type": "code",
      "metadata": {
        "id": "qjgePnEe4GN1"
      },
      "source": [
        "#Create a function to get the sentiment text\n",
        "def getSentiment(score):\n",
        "  if score < 0:\n",
        "    return \"Negative\"\n",
        "  elif score == 0:\n",
        "    return \"Neutral\"\n",
        "  else:\n",
        "    return \"Positive\"      "
      ],
      "execution_count": 38,
      "outputs": []
    },
    {
      "cell_type": "code",
      "metadata": {
        "id": "sZw41SKW3Hvo",
        "colab": {
          "base_uri": "https://localhost:8080/",
          "height": 255
        },
        "outputId": "402f089f-ec5b-4853-d1f4-5178d89bdac7"
      },
      "source": [
        "#Create a column to store the text sentiment\n",
        "df[\"Sentiment\"] = df[\"Polarity\"].apply(getSentiment)\n",
        "\n",
        "#Show the data\n",
        "df.head()"
      ],
      "execution_count": 39,
      "outputs": [
        {
          "output_type": "execute_result",
          "data": {
            "text/html": [
              "<div>\n",
              "<style scoped>\n",
              "    .dataframe tbody tr th:only-of-type {\n",
              "        vertical-align: middle;\n",
              "    }\n",
              "\n",
              "    .dataframe tbody tr th {\n",
              "        vertical-align: top;\n",
              "    }\n",
              "\n",
              "    .dataframe thead th {\n",
              "        text-align: right;\n",
              "    }\n",
              "</style>\n",
              "<table border=\"1\" class=\"dataframe\">\n",
              "  <thead>\n",
              "    <tr style=\"text-align: right;\">\n",
              "      <th></th>\n",
              "      <th>Tweets</th>\n",
              "      <th>Cleaned_Tweets</th>\n",
              "      <th>Subjectivity</th>\n",
              "      <th>Polarity</th>\n",
              "      <th>Sentiment</th>\n",
              "    </tr>\n",
              "  </thead>\n",
              "  <tbody>\n",
              "    <tr>\n",
              "      <th>0</th>\n",
              "      <td>RT @karka_lawrence: Free trade skills?\\n\\n$250...</td>\n",
              "      <td>RT @karka_lawrence: Free trade skills?$250 bit...</td>\n",
              "      <td>0.800000</td>\n",
              "      <td>0.400000</td>\n",
              "      <td>Positive</td>\n",
              "    </tr>\n",
              "    <tr>\n",
              "      <th>1</th>\n",
              "      <td>RT @BTC_Archive: eBay is coming to #Bitcoin \\n...</td>\n",
              "      <td>RT @BTC_Archive: eBay is coming to Bitcoin Ama...</td>\n",
              "      <td>1.000000</td>\n",
              "      <td>0.000000</td>\n",
              "      <td>Neutral</td>\n",
              "    </tr>\n",
              "    <tr>\n",
              "      <th>2</th>\n",
              "      <td>RT @BTC_Archive: #Bitcoin supply on exchanges ...</td>\n",
              "      <td>RT @BTC_Archive: Bitcoin supply on exchanges s...</td>\n",
              "      <td>0.177778</td>\n",
              "      <td>-0.077778</td>\n",
              "      <td>Negative</td>\n",
              "    </tr>\n",
              "    <tr>\n",
              "      <th>3</th>\n",
              "      <td>RT @CryptoMichNL: Peak high bull cycle predict...</td>\n",
              "      <td>RT @CryptoMichNL: Peak high bull cycle predict...</td>\n",
              "      <td>0.520000</td>\n",
              "      <td>0.330000</td>\n",
              "      <td>Positive</td>\n",
              "    </tr>\n",
              "    <tr>\n",
              "      <th>4</th>\n",
              "      <td>RT @flurbnb: 🚀 $300 to someone who retweets th...</td>\n",
              "      <td>RT @flurbnb: 🚀 $300 to someone who retweets th...</td>\n",
              "      <td>0.000000</td>\n",
              "      <td>0.000000</td>\n",
              "      <td>Neutral</td>\n",
              "    </tr>\n",
              "  </tbody>\n",
              "</table>\n",
              "</div>"
            ],
            "text/plain": [
              "                                              Tweets  ... Sentiment\n",
              "0  RT @karka_lawrence: Free trade skills?\\n\\n$250...  ...  Positive\n",
              "1  RT @BTC_Archive: eBay is coming to #Bitcoin \\n...  ...   Neutral\n",
              "2  RT @BTC_Archive: #Bitcoin supply on exchanges ...  ...  Negative\n",
              "3  RT @CryptoMichNL: Peak high bull cycle predict...  ...  Positive\n",
              "4  RT @flurbnb: 🚀 $300 to someone who retweets th...  ...   Neutral\n",
              "\n",
              "[5 rows x 5 columns]"
            ]
          },
          "metadata": {
            "tags": []
          },
          "execution_count": 39
        }
      ]
    },
    {
      "cell_type": "code",
      "metadata": {
        "id": "Bec4mN3n45FR",
        "colab": {
          "base_uri": "https://localhost:8080/",
          "height": 441
        },
        "outputId": "b8824c8f-2def-4288-cab4-1384c691af6e"
      },
      "source": [
        "#Create a scatter plot to show the subjectivity and the polarity\n",
        "plt.figure(figsize=(8,6))\n",
        "for i in range(0, df.shape[0]):\n",
        "  plt.scatter(df[\"Polarity\"][i], df[\"Subjectivity\"][i], color=\"Purple\")\n",
        "plt.title(\"Sentiment Analysis Scatter Plot\")\n",
        "plt.xlabel(\"Polarity\")\n",
        "plt.ylabel(\"Subjectivity (objective -> subjective\")\n",
        "plt.show()"
      ],
      "execution_count": 40,
      "outputs": [
        {
          "output_type": "display_data",
          "data": {
            "image/png": "[encoded data removed]",
            "text/plain": [
              "<Figure size 576x432 with 1 Axes>"
            ]
          },
          "metadata": {
            "tags": []
          }
        }
      ]
    },
    {
      "cell_type": "code",
      "metadata": {
        "id": "sbaBrid65GLM",
        "colab": {
          "base_uri": "https://localhost:8080/",
          "height": 374
        },
        "outputId": "fae732ca-991d-4c86-c5c1-c48a7e809082"
      },
      "source": [
        "#Create a bar chart to show the count of Positive, Neutral, and Negative sentiments\n",
        "df[\"Sentiment\"].value_counts().plot(kind=\"bar\")\n",
        "plt.title(\"Sentiment Analysis Bar Plot\")\n",
        "plt.xlabel(\"Sentiment\")\n",
        "plt.ylabel(\"Number of tweets\")\n",
        "plt.show()\n"
      ],
      "execution_count": 25,
      "outputs": [
        {
          "output_type": "display_data",
          "data": {
            "image/png": "[encoded data removed]",
            "text/plain": [
              "<Figure size 432x288 with 1 Axes>"
            ]
          },
          "metadata": {
            "tags": []
          }
        }
      ]
    }
  ]
}