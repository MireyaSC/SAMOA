{
  "nbformat": 4,
  "nbformat_minor": 0,
  "metadata": {
    "colab": {
      "name": "forecast_bitcoin_yt_variosdf(v7).ipynb",
      "provenance": [],
      "collapsed_sections": []
    },
    "kernelspec": {
      "name": "python3",
      "display_name": "Python 3"
    },
    "language_info": {
      "name": "python"
    }
  },
  "cells": [
    {
      "cell_type": "code",
      "metadata": {
        "id": "pVsais-nzsxw"
      },
      "source": [
        "import datetime as dt\n",
        "from pandas_datareader import data\n",
        "import numpy as np\n",
        "import matplotlib.pyplot as plt\n",
        "import pandas as pd \n",
        "import math\n",
        "from keras.models import Sequential\n",
        "from keras.layers import Dense, LSTM, Dropout\n",
        "from sklearn.preprocessing import MinMaxScaler, StandardScaler\n",
        "from sklearn.metrics import mean_squared_error\n",
        "import seaborn as sns\n",
        "import matplotlib.pyplot as plt\n"
      ],
      "execution_count": 14,
      "outputs": []
    },
    {
      "cell_type": "code",
      "metadata": {
        "colab": {
          "base_uri": "https://localhost:8080/",
          "height": 235
        },
        "id": "K5HsPpRkz4wN",
        "outputId": "2c62db4b-ae43-4b37-f0c1-1812e1b45ed9"
      },
      "source": [
        "df = data.DataReader('BTC-USD','yahoo', dt.datetime(2020,12,11), dt.datetime.now())\n",
        "df.head()"
      ],
      "execution_count": 23,
      "outputs": [
        {
          "output_type": "execute_result",
          "data": {
            "text/html": [
              "<div>\n",
              "<style scoped>\n",
              "    .dataframe tbody tr th:only-of-type {\n",
              "        vertical-align: middle;\n",
              "    }\n",
              "\n",
              "    .dataframe tbody tr th {\n",
              "        vertical-align: top;\n",
              "    }\n",
              "\n",
              "    .dataframe thead th {\n",
              "        text-align: right;\n",
              "    }\n",
              "</style>\n",
              "<table border=\"1\" class=\"dataframe\">\n",
              "  <thead>\n",
              "    <tr style=\"text-align: right;\">\n",
              "      <th></th>\n",
              "      <th>High</th>\n",
              "      <th>Low</th>\n",
              "      <th>Open</th>\n",
              "      <th>Close</th>\n",
              "      <th>Volume</th>\n",
              "      <th>Adj Close</th>\n",
              "    </tr>\n",
              "    <tr>\n",
              "      <th>Date</th>\n",
              "      <th></th>\n",
              "      <th></th>\n",
              "      <th></th>\n",
              "      <th></th>\n",
              "      <th></th>\n",
              "      <th></th>\n",
              "    </tr>\n",
              "  </thead>\n",
              "  <tbody>\n",
              "    <tr>\n",
              "      <th>2020-12-11</th>\n",
              "      <td>18268.453125</td>\n",
              "      <td>17619.533203</td>\n",
              "      <td>18263.929688</td>\n",
              "      <td>18058.904297</td>\n",
              "      <td>27919640985</td>\n",
              "      <td>18058.904297</td>\n",
              "    </tr>\n",
              "    <tr>\n",
              "      <th>2020-12-12</th>\n",
              "      <td>18919.550781</td>\n",
              "      <td>18046.041016</td>\n",
              "      <td>18051.320312</td>\n",
              "      <td>18803.656250</td>\n",
              "      <td>21752580802</td>\n",
              "      <td>18803.656250</td>\n",
              "    </tr>\n",
              "    <tr>\n",
              "      <th>2020-12-13</th>\n",
              "      <td>19381.535156</td>\n",
              "      <td>18734.332031</td>\n",
              "      <td>18806.765625</td>\n",
              "      <td>19142.382812</td>\n",
              "      <td>25450468637</td>\n",
              "      <td>19142.382812</td>\n",
              "    </tr>\n",
              "    <tr>\n",
              "      <th>2020-12-14</th>\n",
              "      <td>19305.099609</td>\n",
              "      <td>19012.708984</td>\n",
              "      <td>19144.492188</td>\n",
              "      <td>19246.644531</td>\n",
              "      <td>22473997681</td>\n",
              "      <td>19246.644531</td>\n",
              "    </tr>\n",
              "    <tr>\n",
              "      <th>2020-12-15</th>\n",
              "      <td>19525.007812</td>\n",
              "      <td>19079.841797</td>\n",
              "      <td>19246.919922</td>\n",
              "      <td>19417.076172</td>\n",
              "      <td>26741982541</td>\n",
              "      <td>19417.076172</td>\n",
              "    </tr>\n",
              "  </tbody>\n",
              "</table>\n",
              "</div>"
            ],
            "text/plain": [
              "                    High           Low  ...       Volume     Adj Close\n",
              "Date                                    ...                           \n",
              "2020-12-11  18268.453125  17619.533203  ...  27919640985  18058.904297\n",
              "2020-12-12  18919.550781  18046.041016  ...  21752580802  18803.656250\n",
              "2020-12-13  19381.535156  18734.332031  ...  25450468637  19142.382812\n",
              "2020-12-14  19305.099609  19012.708984  ...  22473997681  19246.644531\n",
              "2020-12-15  19525.007812  19079.841797  ...  26741982541  19417.076172\n",
              "\n",
              "[5 rows x 6 columns]"
            ]
          },
          "metadata": {
            "tags": []
          },
          "execution_count": 23
        }
      ]
    },
    {
      "cell_type": "code",
      "metadata": {
        "colab": {
          "base_uri": "https://localhost:8080/",
          "height": 235
        },
        "id": "HJRn31VRKrre",
        "outputId": "db00aaef-d1e1-439f-f0ea-2c525ab2a8ca"
      },
      "source": [
        "df1 = data.DataReader('ETH-USD','yahoo', dt.datetime(2020,12,11), dt.datetime.now())\n",
        "df.head()"
      ],
      "execution_count": 24,
      "outputs": [
        {
          "output_type": "execute_result",
          "data": {
            "text/html": [
              "<div>\n",
              "<style scoped>\n",
              "    .dataframe tbody tr th:only-of-type {\n",
              "        vertical-align: middle;\n",
              "    }\n",
              "\n",
              "    .dataframe tbody tr th {\n",
              "        vertical-align: top;\n",
              "    }\n",
              "\n",
              "    .dataframe thead th {\n",
              "        text-align: right;\n",
              "    }\n",
              "</style>\n",
              "<table border=\"1\" class=\"dataframe\">\n",
              "  <thead>\n",
              "    <tr style=\"text-align: right;\">\n",
              "      <th></th>\n",
              "      <th>High</th>\n",
              "      <th>Low</th>\n",
              "      <th>Open</th>\n",
              "      <th>Close</th>\n",
              "      <th>Volume</th>\n",
              "      <th>Adj Close</th>\n",
              "    </tr>\n",
              "    <tr>\n",
              "      <th>Date</th>\n",
              "      <th></th>\n",
              "      <th></th>\n",
              "      <th></th>\n",
              "      <th></th>\n",
              "      <th></th>\n",
              "      <th></th>\n",
              "    </tr>\n",
              "  </thead>\n",
              "  <tbody>\n",
              "    <tr>\n",
              "      <th>2020-12-11</th>\n",
              "      <td>18268.453125</td>\n",
              "      <td>17619.533203</td>\n",
              "      <td>18263.929688</td>\n",
              "      <td>18058.904297</td>\n",
              "      <td>27919640985</td>\n",
              "      <td>18058.904297</td>\n",
              "    </tr>\n",
              "    <tr>\n",
              "      <th>2020-12-12</th>\n",
              "      <td>18919.550781</td>\n",
              "      <td>18046.041016</td>\n",
              "      <td>18051.320312</td>\n",
              "      <td>18803.656250</td>\n",
              "      <td>21752580802</td>\n",
              "      <td>18803.656250</td>\n",
              "    </tr>\n",
              "    <tr>\n",
              "      <th>2020-12-13</th>\n",
              "      <td>19381.535156</td>\n",
              "      <td>18734.332031</td>\n",
              "      <td>18806.765625</td>\n",
              "      <td>19142.382812</td>\n",
              "      <td>25450468637</td>\n",
              "      <td>19142.382812</td>\n",
              "    </tr>\n",
              "    <tr>\n",
              "      <th>2020-12-14</th>\n",
              "      <td>19305.099609</td>\n",
              "      <td>19012.708984</td>\n",
              "      <td>19144.492188</td>\n",
              "      <td>19246.644531</td>\n",
              "      <td>22473997681</td>\n",
              "      <td>19246.644531</td>\n",
              "    </tr>\n",
              "    <tr>\n",
              "      <th>2020-12-15</th>\n",
              "      <td>19525.007812</td>\n",
              "      <td>19079.841797</td>\n",
              "      <td>19246.919922</td>\n",
              "      <td>19417.076172</td>\n",
              "      <td>26741982541</td>\n",
              "      <td>19417.076172</td>\n",
              "    </tr>\n",
              "  </tbody>\n",
              "</table>\n",
              "</div>"
            ],
            "text/plain": [
              "                    High           Low  ...       Volume     Adj Close\n",
              "Date                                    ...                           \n",
              "2020-12-11  18268.453125  17619.533203  ...  27919640985  18058.904297\n",
              "2020-12-12  18919.550781  18046.041016  ...  21752580802  18803.656250\n",
              "2020-12-13  19381.535156  18734.332031  ...  25450468637  19142.382812\n",
              "2020-12-14  19305.099609  19012.708984  ...  22473997681  19246.644531\n",
              "2020-12-15  19525.007812  19079.841797  ...  26741982541  19417.076172\n",
              "\n",
              "[5 rows x 6 columns]"
            ]
          },
          "metadata": {
            "tags": []
          },
          "execution_count": 24
        }
      ]
    },
    {
      "cell_type": "code",
      "metadata": {
        "id": "m9DHR3LvRhVL"
      },
      "source": [
        ""
      ],
      "execution_count": null,
      "outputs": []
    },
    {
      "cell_type": "code",
      "metadata": {
        "colab": {
          "base_uri": "https://localhost:8080/",
          "height": 204
        },
        "id": "qMJxIrlKTTpt",
        "outputId": "2e4c030c-d3b7-4f00-9947-4c13dd14e7ad"
      },
      "source": [
        "dfo = df.rename_axis('Date').reset_index()\n",
        "dfo.head()"
      ],
      "execution_count": 25,
      "outputs": [
        {
          "output_type": "execute_result",
          "data": {
            "text/html": [
              "<div>\n",
              "<style scoped>\n",
              "    .dataframe tbody tr th:only-of-type {\n",
              "        vertical-align: middle;\n",
              "    }\n",
              "\n",
              "    .dataframe tbody tr th {\n",
              "        vertical-align: top;\n",
              "    }\n",
              "\n",
              "    .dataframe thead th {\n",
              "        text-align: right;\n",
              "    }\n",
              "</style>\n",
              "<table border=\"1\" class=\"dataframe\">\n",
              "  <thead>\n",
              "    <tr style=\"text-align: right;\">\n",
              "      <th></th>\n",
              "      <th>Date</th>\n",
              "      <th>High</th>\n",
              "      <th>Low</th>\n",
              "      <th>Open</th>\n",
              "      <th>Close</th>\n",
              "      <th>Volume</th>\n",
              "      <th>Adj Close</th>\n",
              "    </tr>\n",
              "  </thead>\n",
              "  <tbody>\n",
              "    <tr>\n",
              "      <th>0</th>\n",
              "      <td>2020-12-11</td>\n",
              "      <td>18268.453125</td>\n",
              "      <td>17619.533203</td>\n",
              "      <td>18263.929688</td>\n",
              "      <td>18058.904297</td>\n",
              "      <td>27919640985</td>\n",
              "      <td>18058.904297</td>\n",
              "    </tr>\n",
              "    <tr>\n",
              "      <th>1</th>\n",
              "      <td>2020-12-12</td>\n",
              "      <td>18919.550781</td>\n",
              "      <td>18046.041016</td>\n",
              "      <td>18051.320312</td>\n",
              "      <td>18803.656250</td>\n",
              "      <td>21752580802</td>\n",
              "      <td>18803.656250</td>\n",
              "    </tr>\n",
              "    <tr>\n",
              "      <th>2</th>\n",
              "      <td>2020-12-13</td>\n",
              "      <td>19381.535156</td>\n",
              "      <td>18734.332031</td>\n",
              "      <td>18806.765625</td>\n",
              "      <td>19142.382812</td>\n",
              "      <td>25450468637</td>\n",
              "      <td>19142.382812</td>\n",
              "    </tr>\n",
              "    <tr>\n",
              "      <th>3</th>\n",
              "      <td>2020-12-14</td>\n",
              "      <td>19305.099609</td>\n",
              "      <td>19012.708984</td>\n",
              "      <td>19144.492188</td>\n",
              "      <td>19246.644531</td>\n",
              "      <td>22473997681</td>\n",
              "      <td>19246.644531</td>\n",
              "    </tr>\n",
              "    <tr>\n",
              "      <th>4</th>\n",
              "      <td>2020-12-15</td>\n",
              "      <td>19525.007812</td>\n",
              "      <td>19079.841797</td>\n",
              "      <td>19246.919922</td>\n",
              "      <td>19417.076172</td>\n",
              "      <td>26741982541</td>\n",
              "      <td>19417.076172</td>\n",
              "    </tr>\n",
              "  </tbody>\n",
              "</table>\n",
              "</div>"
            ],
            "text/plain": [
              "        Date          High  ...       Volume     Adj Close\n",
              "0 2020-12-11  18268.453125  ...  27919640985  18058.904297\n",
              "1 2020-12-12  18919.550781  ...  21752580802  18803.656250\n",
              "2 2020-12-13  19381.535156  ...  25450468637  19142.382812\n",
              "3 2020-12-14  19305.099609  ...  22473997681  19246.644531\n",
              "4 2020-12-15  19525.007812  ...  26741982541  19417.076172\n",
              "\n",
              "[5 rows x 7 columns]"
            ]
          },
          "metadata": {
            "tags": []
          },
          "execution_count": 25
        }
      ]
    },
    {
      "cell_type": "code",
      "metadata": {
        "colab": {
          "base_uri": "https://localhost:8080/",
          "height": 204
        },
        "id": "Uw9IPfz9Mb_i",
        "outputId": "864e12cc-ba67-4510-9ba0-42ab23fa2290"
      },
      "source": [
        "dfo1 = df1.rename_axis('Date').reset_index()\n",
        "dfo1.head()"
      ],
      "execution_count": 26,
      "outputs": [
        {
          "output_type": "execute_result",
          "data": {
            "text/html": [
              "<div>\n",
              "<style scoped>\n",
              "    .dataframe tbody tr th:only-of-type {\n",
              "        vertical-align: middle;\n",
              "    }\n",
              "\n",
              "    .dataframe tbody tr th {\n",
              "        vertical-align: top;\n",
              "    }\n",
              "\n",
              "    .dataframe thead th {\n",
              "        text-align: right;\n",
              "    }\n",
              "</style>\n",
              "<table border=\"1\" class=\"dataframe\">\n",
              "  <thead>\n",
              "    <tr style=\"text-align: right;\">\n",
              "      <th></th>\n",
              "      <th>Date</th>\n",
              "      <th>High</th>\n",
              "      <th>Low</th>\n",
              "      <th>Open</th>\n",
              "      <th>Close</th>\n",
              "      <th>Volume</th>\n",
              "      <th>Adj Close</th>\n",
              "    </tr>\n",
              "  </thead>\n",
              "  <tbody>\n",
              "    <tr>\n",
              "      <th>0</th>\n",
              "      <td>2020-12-11</td>\n",
              "      <td>560.376709</td>\n",
              "      <td>537.811646</td>\n",
              "      <td>559.679199</td>\n",
              "      <td>545.797363</td>\n",
              "      <td>11098819124</td>\n",
              "      <td>545.797363</td>\n",
              "    </tr>\n",
              "    <tr>\n",
              "      <th>1</th>\n",
              "      <td>2020-12-12</td>\n",
              "      <td>573.339417</td>\n",
              "      <td>545.245605</td>\n",
              "      <td>545.578552</td>\n",
              "      <td>568.567322</td>\n",
              "      <td>8534557897</td>\n",
              "      <td>568.567322</td>\n",
              "    </tr>\n",
              "    <tr>\n",
              "      <th>2</th>\n",
              "      <td>2020-12-13</td>\n",
              "      <td>593.781250</td>\n",
              "      <td>564.565979</td>\n",
              "      <td>568.609863</td>\n",
              "      <td>589.663208</td>\n",
              "      <td>9070377862</td>\n",
              "      <td>589.663208</td>\n",
              "    </tr>\n",
              "    <tr>\n",
              "      <th>3</th>\n",
              "      <td>2020-12-14</td>\n",
              "      <td>590.492981</td>\n",
              "      <td>577.118408</td>\n",
              "      <td>589.782471</td>\n",
              "      <td>586.011169</td>\n",
              "      <td>8125837102</td>\n",
              "      <td>586.011169</td>\n",
              "    </tr>\n",
              "    <tr>\n",
              "      <th>4</th>\n",
              "      <td>2020-12-15</td>\n",
              "      <td>596.247742</td>\n",
              "      <td>580.628784</td>\n",
              "      <td>586.021790</td>\n",
              "      <td>589.355591</td>\n",
              "      <td>9326645840</td>\n",
              "      <td>589.355591</td>\n",
              "    </tr>\n",
              "  </tbody>\n",
              "</table>\n",
              "</div>"
            ],
            "text/plain": [
              "        Date        High         Low  ...       Close       Volume   Adj Close\n",
              "0 2020-12-11  560.376709  537.811646  ...  545.797363  11098819124  545.797363\n",
              "1 2020-12-12  573.339417  545.245605  ...  568.567322   8534557897  568.567322\n",
              "2 2020-12-13  593.781250  564.565979  ...  589.663208   9070377862  589.663208\n",
              "3 2020-12-14  590.492981  577.118408  ...  586.011169   8125837102  586.011169\n",
              "4 2020-12-15  596.247742  580.628784  ...  589.355591   9326645840  589.355591\n",
              "\n",
              "[5 rows x 7 columns]"
            ]
          },
          "metadata": {
            "tags": []
          },
          "execution_count": 26
        }
      ]
    },
    {
      "cell_type": "code",
      "metadata": {
        "colab": {
          "base_uri": "https://localhost:8080/",
          "height": 326
        },
        "id": "GptamYhMMmHt",
        "outputId": "8dd0fd3a-ff6d-4e16-b22f-932d1e6d6f81"
      },
      "source": [
        "dfm= pd.merge(dfo,dfo1, on= \"Date\", how=\"outer\")\n",
        "dfm.head()"
      ],
      "execution_count": 27,
      "outputs": [
        {
          "output_type": "execute_result",
          "data": {
            "text/html": [
              "<div>\n",
              "<style scoped>\n",
              "    .dataframe tbody tr th:only-of-type {\n",
              "        vertical-align: middle;\n",
              "    }\n",
              "\n",
              "    .dataframe tbody tr th {\n",
              "        vertical-align: top;\n",
              "    }\n",
              "\n",
              "    .dataframe thead th {\n",
              "        text-align: right;\n",
              "    }\n",
              "</style>\n",
              "<table border=\"1\" class=\"dataframe\">\n",
              "  <thead>\n",
              "    <tr style=\"text-align: right;\">\n",
              "      <th></th>\n",
              "      <th>Date</th>\n",
              "      <th>High_x</th>\n",
              "      <th>Low_x</th>\n",
              "      <th>Open_x</th>\n",
              "      <th>Close_x</th>\n",
              "      <th>Volume_x</th>\n",
              "      <th>Adj Close_x</th>\n",
              "      <th>High_y</th>\n",
              "      <th>Low_y</th>\n",
              "      <th>Open_y</th>\n",
              "      <th>Close_y</th>\n",
              "      <th>Volume_y</th>\n",
              "      <th>Adj Close_y</th>\n",
              "    </tr>\n",
              "  </thead>\n",
              "  <tbody>\n",
              "    <tr>\n",
              "      <th>0</th>\n",
              "      <td>2020-12-11</td>\n",
              "      <td>18268.453125</td>\n",
              "      <td>17619.533203</td>\n",
              "      <td>18263.929688</td>\n",
              "      <td>18058.904297</td>\n",
              "      <td>27919640985</td>\n",
              "      <td>18058.904297</td>\n",
              "      <td>560.376709</td>\n",
              "      <td>537.811646</td>\n",
              "      <td>559.679199</td>\n",
              "      <td>545.797363</td>\n",
              "      <td>11098819124</td>\n",
              "      <td>545.797363</td>\n",
              "    </tr>\n",
              "    <tr>\n",
              "      <th>1</th>\n",
              "      <td>2020-12-12</td>\n",
              "      <td>18919.550781</td>\n",
              "      <td>18046.041016</td>\n",
              "      <td>18051.320312</td>\n",
              "      <td>18803.656250</td>\n",
              "      <td>21752580802</td>\n",
              "      <td>18803.656250</td>\n",
              "      <td>573.339417</td>\n",
              "      <td>545.245605</td>\n",
              "      <td>545.578552</td>\n",
              "      <td>568.567322</td>\n",
              "      <td>8534557897</td>\n",
              "      <td>568.567322</td>\n",
              "    </tr>\n",
              "    <tr>\n",
              "      <th>2</th>\n",
              "      <td>2020-12-13</td>\n",
              "      <td>19381.535156</td>\n",
              "      <td>18734.332031</td>\n",
              "      <td>18806.765625</td>\n",
              "      <td>19142.382812</td>\n",
              "      <td>25450468637</td>\n",
              "      <td>19142.382812</td>\n",
              "      <td>593.781250</td>\n",
              "      <td>564.565979</td>\n",
              "      <td>568.609863</td>\n",
              "      <td>589.663208</td>\n",
              "      <td>9070377862</td>\n",
              "      <td>589.663208</td>\n",
              "    </tr>\n",
              "    <tr>\n",
              "      <th>3</th>\n",
              "      <td>2020-12-14</td>\n",
              "      <td>19305.099609</td>\n",
              "      <td>19012.708984</td>\n",
              "      <td>19144.492188</td>\n",
              "      <td>19246.644531</td>\n",
              "      <td>22473997681</td>\n",
              "      <td>19246.644531</td>\n",
              "      <td>590.492981</td>\n",
              "      <td>577.118408</td>\n",
              "      <td>589.782471</td>\n",
              "      <td>586.011169</td>\n",
              "      <td>8125837102</td>\n",
              "      <td>586.011169</td>\n",
              "    </tr>\n",
              "    <tr>\n",
              "      <th>4</th>\n",
              "      <td>2020-12-15</td>\n",
              "      <td>19525.007812</td>\n",
              "      <td>19079.841797</td>\n",
              "      <td>19246.919922</td>\n",
              "      <td>19417.076172</td>\n",
              "      <td>26741982541</td>\n",
              "      <td>19417.076172</td>\n",
              "      <td>596.247742</td>\n",
              "      <td>580.628784</td>\n",
              "      <td>586.021790</td>\n",
              "      <td>589.355591</td>\n",
              "      <td>9326645840</td>\n",
              "      <td>589.355591</td>\n",
              "    </tr>\n",
              "  </tbody>\n",
              "</table>\n",
              "</div>"
            ],
            "text/plain": [
              "        Date        High_x         Low_x  ...     Close_y     Volume_y  Adj Close_y\n",
              "0 2020-12-11  18268.453125  17619.533203  ...  545.797363  11098819124   545.797363\n",
              "1 2020-12-12  18919.550781  18046.041016  ...  568.567322   8534557897   568.567322\n",
              "2 2020-12-13  19381.535156  18734.332031  ...  589.663208   9070377862   589.663208\n",
              "3 2020-12-14  19305.099609  19012.708984  ...  586.011169   8125837102   586.011169\n",
              "4 2020-12-15  19525.007812  19079.841797  ...  589.355591   9326645840   589.355591\n",
              "\n",
              "[5 rows x 13 columns]"
            ]
          },
          "metadata": {
            "tags": []
          },
          "execution_count": 27
        }
      ]
    },
    {
      "cell_type": "code",
      "metadata": {
        "id": "0ykK-zySz8N-"
      },
      "source": [
        "train_dates = dfm\n",
        "#train_dates = dfm.rename_axis('Date').reset_index()\n"
      ],
      "execution_count": 28,
      "outputs": []
    },
    {
      "cell_type": "code",
      "metadata": {
        "colab": {
          "base_uri": "https://localhost:8080/",
          "height": 204
        },
        "id": "HSUG2inBOu4c",
        "outputId": "fe41385a-c38b-4b30-fcf8-88d06f9cd4eb"
      },
      "source": [
        "train_dates = train_dates[['Date']]\n",
        "train_dates.head()"
      ],
      "execution_count": 29,
      "outputs": [
        {
          "output_type": "execute_result",
          "data": {
            "text/html": [
              "<div>\n",
              "<style scoped>\n",
              "    .dataframe tbody tr th:only-of-type {\n",
              "        vertical-align: middle;\n",
              "    }\n",
              "\n",
              "    .dataframe tbody tr th {\n",
              "        vertical-align: top;\n",
              "    }\n",
              "\n",
              "    .dataframe thead th {\n",
              "        text-align: right;\n",
              "    }\n",
              "</style>\n",
              "<table border=\"1\" class=\"dataframe\">\n",
              "  <thead>\n",
              "    <tr style=\"text-align: right;\">\n",
              "      <th></th>\n",
              "      <th>Date</th>\n",
              "    </tr>\n",
              "  </thead>\n",
              "  <tbody>\n",
              "    <tr>\n",
              "      <th>0</th>\n",
              "      <td>2020-12-11</td>\n",
              "    </tr>\n",
              "    <tr>\n",
              "      <th>1</th>\n",
              "      <td>2020-12-12</td>\n",
              "    </tr>\n",
              "    <tr>\n",
              "      <th>2</th>\n",
              "      <td>2020-12-13</td>\n",
              "    </tr>\n",
              "    <tr>\n",
              "      <th>3</th>\n",
              "      <td>2020-12-14</td>\n",
              "    </tr>\n",
              "    <tr>\n",
              "      <th>4</th>\n",
              "      <td>2020-12-15</td>\n",
              "    </tr>\n",
              "  </tbody>\n",
              "</table>\n",
              "</div>"
            ],
            "text/plain": [
              "        Date\n",
              "0 2020-12-11\n",
              "1 2020-12-12\n",
              "2 2020-12-13\n",
              "3 2020-12-14\n",
              "4 2020-12-15"
            ]
          },
          "metadata": {
            "tags": []
          },
          "execution_count": 29
        }
      ]
    },
    {
      "cell_type": "code",
      "metadata": {
        "id": "AnfjtLDPQu4X"
      },
      "source": [
        "train_dates = pd.to_datetime(train_dates[\"Date\"])"
      ],
      "execution_count": 30,
      "outputs": []
    },
    {
      "cell_type": "code",
      "metadata": {
        "colab": {
          "base_uri": "https://localhost:8080/",
          "height": 463
        },
        "id": "VwcsIB6T0Ix0",
        "outputId": "7b86accc-74a2-4aba-cfa2-c8936e800a06"
      },
      "source": [
        "#porque volume y Adj close no nos interesan o son redundantes\n",
        "cols = list(dfm)[1:10]\n",
        "df_for_training= dfm[cols].astype(float)\n",
        "\n",
        "df_for_plot= df_for_training.tail(5000)\n",
        "df_for_plot.plot.line()\n",
        "df_for_training.head()"
      ],
      "execution_count": 31,
      "outputs": [
        {
          "output_type": "execute_result",
          "data": {
            "text/html": [
              "<div>\n",
              "<style scoped>\n",
              "    .dataframe tbody tr th:only-of-type {\n",
              "        vertical-align: middle;\n",
              "    }\n",
              "\n",
              "    .dataframe tbody tr th {\n",
              "        vertical-align: top;\n",
              "    }\n",
              "\n",
              "    .dataframe thead th {\n",
              "        text-align: right;\n",
              "    }\n",
              "</style>\n",
              "<table border=\"1\" class=\"dataframe\">\n",
              "  <thead>\n",
              "    <tr style=\"text-align: right;\">\n",
              "      <th></th>\n",
              "      <th>High_x</th>\n",
              "      <th>Low_x</th>\n",
              "      <th>Open_x</th>\n",
              "      <th>Close_x</th>\n",
              "      <th>Volume_x</th>\n",
              "      <th>Adj Close_x</th>\n",
              "      <th>High_y</th>\n",
              "      <th>Low_y</th>\n",
              "      <th>Open_y</th>\n",
              "    </tr>\n",
              "  </thead>\n",
              "  <tbody>\n",
              "    <tr>\n",
              "      <th>0</th>\n",
              "      <td>18268.453125</td>\n",
              "      <td>17619.533203</td>\n",
              "      <td>18263.929688</td>\n",
              "      <td>18058.904297</td>\n",
              "      <td>2.791964e+10</td>\n",
              "      <td>18058.904297</td>\n",
              "      <td>560.376709</td>\n",
              "      <td>537.811646</td>\n",
              "      <td>559.679199</td>\n",
              "    </tr>\n",
              "    <tr>\n",
              "      <th>1</th>\n",
              "      <td>18919.550781</td>\n",
              "      <td>18046.041016</td>\n",
              "      <td>18051.320312</td>\n",
              "      <td>18803.656250</td>\n",
              "      <td>2.175258e+10</td>\n",
              "      <td>18803.656250</td>\n",
              "      <td>573.339417</td>\n",
              "      <td>545.245605</td>\n",
              "      <td>545.578552</td>\n",
              "    </tr>\n",
              "    <tr>\n",
              "      <th>2</th>\n",
              "      <td>19381.535156</td>\n",
              "      <td>18734.332031</td>\n",
              "      <td>18806.765625</td>\n",
              "      <td>19142.382812</td>\n",
              "      <td>2.545047e+10</td>\n",
              "      <td>19142.382812</td>\n",
              "      <td>593.781250</td>\n",
              "      <td>564.565979</td>\n",
              "      <td>568.609863</td>\n",
              "    </tr>\n",
              "    <tr>\n",
              "      <th>3</th>\n",
              "      <td>19305.099609</td>\n",
              "      <td>19012.708984</td>\n",
              "      <td>19144.492188</td>\n",
              "      <td>19246.644531</td>\n",
              "      <td>2.247400e+10</td>\n",
              "      <td>19246.644531</td>\n",
              "      <td>590.492981</td>\n",
              "      <td>577.118408</td>\n",
              "      <td>589.782471</td>\n",
              "    </tr>\n",
              "    <tr>\n",
              "      <th>4</th>\n",
              "      <td>19525.007812</td>\n",
              "      <td>19079.841797</td>\n",
              "      <td>19246.919922</td>\n",
              "      <td>19417.076172</td>\n",
              "      <td>2.674198e+10</td>\n",
              "      <td>19417.076172</td>\n",
              "      <td>596.247742</td>\n",
              "      <td>580.628784</td>\n",
              "      <td>586.021790</td>\n",
              "    </tr>\n",
              "  </tbody>\n",
              "</table>\n",
              "</div>"
            ],
            "text/plain": [
              "         High_x         Low_x        Open_x  ...      High_y       Low_y      Open_y\n",
              "0  18268.453125  17619.533203  18263.929688  ...  560.376709  537.811646  559.679199\n",
              "1  18919.550781  18046.041016  18051.320312  ...  573.339417  545.245605  545.578552\n",
              "2  19381.535156  18734.332031  18806.765625  ...  593.781250  564.565979  568.609863\n",
              "3  19305.099609  19012.708984  19144.492188  ...  590.492981  577.118408  589.782471\n",
              "4  19525.007812  19079.841797  19246.919922  ...  596.247742  580.628784  586.021790\n",
              "\n",
              "[5 rows x 9 columns]"
            ]
          },
          "metadata": {
            "tags": []
          },
          "execution_count": 31
        },
        {
          "output_type": "display_data",
          "data": {
            "image/png": "[encoded data removed]",
            "text/plain": [
              "<Figure size 432x288 with 1 Axes>"
            ]
          },
          "metadata": {
            "tags": [],
            "needs_background": "light"
          }
        }
      ]
    },
    {
      "cell_type": "code",
      "metadata": {
        "id": "E7EHQm8f0iBc"
      },
      "source": [
        "scaler = StandardScaler()\n",
        "scaler = scaler.fit(df_for_training)\n",
        "df_for_training_scaled = scaler.transform(df_for_training)"
      ],
      "execution_count": 32,
      "outputs": []
    },
    {
      "cell_type": "code",
      "metadata": {
        "colab": {
          "base_uri": "https://localhost:8080/",
          "height": 860
        },
        "id": "q_NxKHfl1DFG",
        "outputId": "9b14a57a-0af8-432c-99ef-6c1e1f6e5107"
      },
      "source": [
        "trainX = []\n",
        "trainY = []\n",
        "\n",
        "n_future = 1\n",
        "n_past = 50\n",
        "variables = df_for_training.shape[1]\n",
        "idx_target = 3\n",
        "\n",
        "for i in range(n_past, len(df_for_training_scaled) - n_future +1):\n",
        "  trainX.append(df_for_training_scaled[i - n_past:i, 0:df_for_training.shape[1]])\n",
        "  trainY.append(df_for_training_scaled[i + n_future -1:i + n_future, idx_target])\n",
        "\n",
        "#for i in range(len(df_for_training_scaled)-n_past-1):\n",
        " # trainX.append(df_for_training_scaled[i:i+n_past])\n",
        " # trainY.append(df_for_training_scaled[i + n_past , idx_target])\n",
        "\n",
        "trainX, trainY = np.array(trainX), np.array(trainY)\n",
        "print(trainX.shape)  \n",
        "print(trainY.shape)  \n",
        "\n",
        "\n",
        "# ligeramente modificada para escoger la variable objetivo\n",
        "#def create_dataset(dataset, look_back_memory=1, idx_target=-1):\n",
        "#    dataX, dataY = [], []\n",
        "#        dataX.append(dataset[i:i+look_back_memory])\n",
        "#    for i in range(len(dataset)-look_back_memory-1):\n",
        "#        dataY.append(dataset[i+look_back_memory, idx_target])\n",
        "#    return np.array(dataX), np.array(dataY)\n",
        "\n",
        "model = Sequential() #initialize model\n",
        "model.add(LSTM(10, input_shape=(n_past, variables)))\n",
        "model.add(Dense(1, activation='linear'))\n",
        "model.compile(loss='mean_squared_error', optimizer='adam')\n",
        "model.summary()\n",
        "\n",
        "history = model.fit(trainX, trainY, epochs=10,validation_split=0.1, batch_size=1, verbose=1)\n",
        "\n",
        "#define autoencoder model\n",
        "#model= Sequential()\n",
        "#model.add(LSTM(64, activation=\"relu\", input_shape=(trainX.shape[1], trainX.shape[2]), return_sequences=True))\n",
        "#model.add(LSTM(32, activation=\"relu\", return_sequences=False))\n",
        "#model.add(Dropout(0.2))\n",
        "#model.add(Dense(trainY.shape[1]))\n",
        "\n",
        "#model.compile(optimizer=\"adam\", loss=\"mse\")\n",
        "#model.summary()\n",
        "\n",
        "#fit model\n",
        "#history = model.fit(trainX,trainY, epochs=10, batch_size=1, validation_split=0.1, verbose=1)\n",
        "\n",
        "plt.plot(history.history[\"loss\"], label=\"Training loss\")\n",
        "plt.plot(history.history[\"val_loss\"], label=\"Validation loss\")\n",
        "plt.legend()\n",
        "\n"
      ],
      "execution_count": 33,
      "outputs": [
        {
          "output_type": "stream",
          "text": [
            "(85, 50, 9)\n",
            "(85, 1)\n",
            "Model: \"sequential_4\"\n",
            "_________________________________________________________________\n",
            "Layer (type)                 Output Shape              Param #   \n",
            "=================================================================\n",
            "lstm_4 (LSTM)                (None, 10)                800       \n",
            "_________________________________________________________________\n",
            "dense_4 (Dense)              (None, 1)                 11        \n",
            "=================================================================\n",
            "Total params: 811\n",
            "Trainable params: 811\n",
            "Non-trainable params: 0\n",
            "_________________________________________________________________\n",
            "Epoch 1/10\n",
            "76/76 [==============================] - 3s 17ms/step - loss: 0.1663 - val_loss: 0.0783\n",
            "Epoch 2/10\n",
            "76/76 [==============================] - 1s 10ms/step - loss: 0.0545 - val_loss: 0.0855\n",
            "Epoch 3/10\n",
            "76/76 [==============================] - 1s 8ms/step - loss: 0.0420 - val_loss: 0.0755\n",
            "Epoch 4/10\n",
            "76/76 [==============================] - 1s 9ms/step - loss: 0.0439 - val_loss: 0.0729\n",
            "Epoch 5/10\n",
            "76/76 [==============================] - 1s 9ms/step - loss: 0.0383 - val_loss: 0.0742\n",
            "Epoch 6/10\n",
            "76/76 [==============================] - 1s 9ms/step - loss: 0.0339 - val_loss: 0.0720\n",
            "Epoch 7/10\n",
            "76/76 [==============================] - 1s 9ms/step - loss: 0.0351 - val_loss: 0.0804\n",
            "Epoch 8/10\n",
            "76/76 [==============================] - 1s 9ms/step - loss: 0.0332 - val_loss: 0.0639\n",
            "Epoch 9/10\n",
            "76/76 [==============================] - 1s 9ms/step - loss: 0.0291 - val_loss: 0.0628\n",
            "Epoch 10/10\n",
            "76/76 [==============================] - 1s 10ms/step - loss: 0.0328 - val_loss: 0.0667\n"
          ],
          "name": "stdout"
        },
        {
          "output_type": "execute_result",
          "data": {
            "text/plain": [
              "<matplotlib.legend.Legend at 0x7fca73e703d0>"
            ]
          },
          "metadata": {
            "tags": []
          },
          "execution_count": 33
        },
        {
          "output_type": "display_data",
          "data": {
            "image/png": "[encoded data removed]",
            "text/plain": [
              "<Figure size 432x288 with 1 Axes>"
            ]
          },
          "metadata": {
            "tags": [],
            "needs_background": "light"
          }
        }
      ]
    },
    {
      "cell_type": "code",
      "metadata": {
        "id": "n2WbsOeXeurm"
      },
      "source": [
        ""
      ],
      "execution_count": null,
      "outputs": []
    },
    {
      "cell_type": "code",
      "metadata": {
        "colab": {
          "base_uri": "https://localhost:8080/",
          "height": 483
        },
        "id": "83rkK1JhSrPx",
        "outputId": "99faeb54-b245-4a52-9a79-4a486a2657dc"
      },
      "source": [
        "#Forecasting\n",
        "#start whith the last day in training date and predict future\n",
        "n_future=15\n",
        "forecast_period_date= pd.date_range(list(train_dates)[-1],periods=n_future, freq=\"1d\").tolist()\n",
        "\n",
        "forecast = model.predict(trainX[-n_future:]) #forecast\n",
        "\n",
        "#perform inverse transformation to rescale back to original range\n",
        "forecast_copies =np.repeat(forecast, df_for_training.shape[1], axis=-1)\n",
        "y_pred_future = scaler.inverse_transform(forecast_copies)[:,0]\n",
        "\n",
        "#convert timestamp to date\n",
        "forecast_dates= []\n",
        "for time_i in forecast_period_date:\n",
        "  forecast_dates.append(time_i.date())\n",
        "\n",
        "df_forecast= pd.DataFrame({\"Date\":np.array(forecast_dates), \"Close\":y_pred_future})\n",
        "df_forecast[\"Date\"]=pd.to_datetime(df_forecast[\"Date\"])\n",
        "\n",
        "original = dfo[[\"Date\", \"Close\"]]\n",
        "original[\"Date\"]=pd.to_datetime(original[\"Date\"])\n",
        "original = original.loc[original[\"Date\"]>= \"2020-5-1\"]\n",
        "\n",
        "plt.figure(figsize=(20, 6))\n",
        "plt.plot(original[\"Date\"], original[\"Close\"])\n",
        "#plt.figure(figsize=(20, 6))\n",
        "plt.plot(df_forecast[\"Date\"], df_forecast[\"Close\"])\n",
        "#print(plt.plot(df_forecast[\"Date\"], df_forecast[\"Close\"]))\n",
        "#sns.lineplot(df_forecast[\"Date\"], df_forecast[\"Close\"])"
      ],
      "execution_count": 34,
      "outputs": [
        {
          "output_type": "stream",
          "text": [
            "/usr/local/lib/python3.7/dist-packages/ipykernel_launcher.py:21: SettingWithCopyWarning: \n",
            "A value is trying to be set on a copy of a slice from a DataFrame.\n",
            "Try using .loc[row_indexer,col_indexer] = value instead\n",
            "\n",
            "See the caveats in the documentation: https://pandas.pydata.org/pandas-docs/stable/user_guide/indexing.html#returning-a-view-versus-a-copy\n"
          ],
          "name": "stderr"
        },
        {
          "output_type": "execute_result",
          "data": {
            "text/plain": [
              "[<matplotlib.lines.Line2D at 0x7fca73cd60d0>]"
            ]
          },
          "metadata": {
            "tags": []
          },
          "execution_count": 34
        },
        {
          "output_type": "display_data",
          "data": {
            "image/png": "[encoded data removed]",
            "text/plain": [
              "<Figure size 1440x432 with 1 Axes>"
            ]
          },
          "metadata": {
            "tags": [],
            "needs_background": "light"
          }
        }
      ]
    },
    {
      "cell_type": "code",
      "metadata": {
        "colab": {
          "base_uri": "https://localhost:8080/",
          "height": 514
        },
        "id": "SQj_DD7xxELo",
        "outputId": "77982469-c578-458c-c6b3-d741becd3baf"
      },
      "source": [
        "df_forecast.head(n=30)"
      ],
      "execution_count": 36,
      "outputs": [
        {
          "output_type": "execute_result",
          "data": {
            "text/html": [
              "<div>\n",
              "<style scoped>\n",
              "    .dataframe tbody tr th:only-of-type {\n",
              "        vertical-align: middle;\n",
              "    }\n",
              "\n",
              "    .dataframe tbody tr th {\n",
              "        vertical-align: top;\n",
              "    }\n",
              "\n",
              "    .dataframe thead th {\n",
              "        text-align: right;\n",
              "    }\n",
              "</style>\n",
              "<table border=\"1\" class=\"dataframe\">\n",
              "  <thead>\n",
              "    <tr style=\"text-align: right;\">\n",
              "      <th></th>\n",
              "      <th>Date</th>\n",
              "      <th>Close</th>\n",
              "    </tr>\n",
              "  </thead>\n",
              "  <tbody>\n",
              "    <tr>\n",
              "      <th>0</th>\n",
              "      <td>2021-04-22</td>\n",
              "      <td>59596.671875</td>\n",
              "    </tr>\n",
              "    <tr>\n",
              "      <th>1</th>\n",
              "      <td>2021-04-23</td>\n",
              "      <td>60130.953125</td>\n",
              "    </tr>\n",
              "    <tr>\n",
              "      <th>2</th>\n",
              "      <td>2021-04-24</td>\n",
              "      <td>61116.410156</td>\n",
              "    </tr>\n",
              "    <tr>\n",
              "      <th>3</th>\n",
              "      <td>2021-04-25</td>\n",
              "      <td>60907.054688</td>\n",
              "    </tr>\n",
              "    <tr>\n",
              "      <th>4</th>\n",
              "      <td>2021-04-26</td>\n",
              "      <td>61865.230469</td>\n",
              "    </tr>\n",
              "    <tr>\n",
              "      <th>5</th>\n",
              "      <td>2021-04-27</td>\n",
              "      <td>61952.054688</td>\n",
              "    </tr>\n",
              "    <tr>\n",
              "      <th>6</th>\n",
              "      <td>2021-04-28</td>\n",
              "      <td>61204.609375</td>\n",
              "    </tr>\n",
              "    <tr>\n",
              "      <th>7</th>\n",
              "      <td>2021-04-29</td>\n",
              "      <td>61441.808594</td>\n",
              "    </tr>\n",
              "    <tr>\n",
              "      <th>8</th>\n",
              "      <td>2021-04-30</td>\n",
              "      <td>62349.136719</td>\n",
              "    </tr>\n",
              "    <tr>\n",
              "      <th>9</th>\n",
              "      <td>2021-05-01</td>\n",
              "      <td>61314.250000</td>\n",
              "    </tr>\n",
              "    <tr>\n",
              "      <th>10</th>\n",
              "      <td>2021-05-02</td>\n",
              "      <td>61736.785156</td>\n",
              "    </tr>\n",
              "    <tr>\n",
              "      <th>11</th>\n",
              "      <td>2021-05-03</td>\n",
              "      <td>59357.769531</td>\n",
              "    </tr>\n",
              "    <tr>\n",
              "      <th>12</th>\n",
              "      <td>2021-05-04</td>\n",
              "      <td>59816.835938</td>\n",
              "    </tr>\n",
              "    <tr>\n",
              "      <th>13</th>\n",
              "      <td>2021-05-05</td>\n",
              "      <td>59574.644531</td>\n",
              "    </tr>\n",
              "    <tr>\n",
              "      <th>14</th>\n",
              "      <td>2021-05-06</td>\n",
              "      <td>60684.496094</td>\n",
              "    </tr>\n",
              "  </tbody>\n",
              "</table>\n",
              "</div>"
            ],
            "text/plain": [
              "         Date         Close\n",
              "0  2021-04-22  59596.671875\n",
              "1  2021-04-23  60130.953125\n",
              "2  2021-04-24  61116.410156\n",
              "3  2021-04-25  60907.054688\n",
              "4  2021-04-26  61865.230469\n",
              "5  2021-04-27  61952.054688\n",
              "6  2021-04-28  61204.609375\n",
              "7  2021-04-29  61441.808594\n",
              "8  2021-04-30  62349.136719\n",
              "9  2021-05-01  61314.250000\n",
              "10 2021-05-02  61736.785156\n",
              "11 2021-05-03  59357.769531\n",
              "12 2021-05-04  59816.835938\n",
              "13 2021-05-05  59574.644531\n",
              "14 2021-05-06  60684.496094"
            ]
          },
          "metadata": {
            "tags": []
          },
          "execution_count": 36
        }
      ]
    }
  ]
}